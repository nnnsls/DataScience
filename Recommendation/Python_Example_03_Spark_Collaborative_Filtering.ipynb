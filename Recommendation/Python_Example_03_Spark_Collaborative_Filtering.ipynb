{
 "cells": [
  {
   "cell_type": "markdown",
   "metadata": {},
   "source": [
    "# MovieLens Latest Datasets\n",
    "<br>\n",
    "These datasets will change over time, and are not appropriate for reporting research results. We will keep the download links stable for automated downloads. We will not archive or make available previously released versions.<br>\n",
    "<br>\n",
    "Small: 100,000 ratings and 1,300 tag applications applied to 9,000 movies by 700 users. Last updated 10/2016.<br>\n",
    "<br>\n",
    "https://grouplens.org/datasets/movielens/"
   ]
  },
  {
   "cell_type": "code",
   "execution_count": 1,
   "metadata": {
    "collapsed": true
   },
   "outputs": [],
   "source": [
    "import os\n",
    "import math\n",
    "from pyspark import SparkContext\n",
    "from pyspark.mllib.recommendation import ALS, MatrixFactorizationModel"
   ]
  },
  {
   "cell_type": "code",
   "execution_count": 2,
   "metadata": {
    "collapsed": true
   },
   "outputs": [],
   "source": [
    "logFile = \"Jupyter/Recommendation/UserCF\"\n",
    "sc = SparkContext(\"local\", \"Jupyter_Spark_UserCF\")\n",
    "logData = sc.textFile(logFile).cache()"
   ]
  },
  {
   "cell_type": "code",
   "execution_count": 3,
   "metadata": {},
   "outputs": [
    {
     "data": {
      "text/plain": [
       "[('1', '31', '2.5'), ('1', '1061', '3.0'), ('1', '1172', '4.0')]"
      ]
     },
     "execution_count": 3,
     "metadata": {},
     "output_type": "execute_result"
    }
   ],
   "source": [
    "ratings_path_train = os.path.join('Data', 'ml-latest-small', 'ratings_train.csv')\n",
    "\n",
    "ratings_data_train = sc.textFile(ratings_path_train)\n",
    "ratings_header_train = ratings_data_train.take(1)[0]\n",
    "\n",
    "ratings_data_train = ratings_data_train.filter(lambda row: row!=ratings_header_train)\\\n",
    "                        .map(lambda row: row.split(\",\")).map(lambda x: (x[0], x[1], x[2])).cache()\n",
    "\n",
    "ratings_data_train.take(3)"
   ]
  },
  {
   "cell_type": "code",
   "execution_count": 4,
   "metadata": {},
   "outputs": [
    {
     "data": {
      "text/plain": [
       "[('1', '1129', '2.0'), ('1', '1263', '2.0'), ('1', '1339', '3.5')]"
      ]
     },
     "execution_count": 4,
     "metadata": {},
     "output_type": "execute_result"
    }
   ],
   "source": [
    "ratings_path_test = os.path.join('Data', 'ml-latest-small', 'ratings_test.csv')\n",
    "\n",
    "ratings_data_test = sc.textFile(ratings_path_test)\n",
    "ratings_header_test = ratings_data_test.take(1)[0]\n",
    "\n",
    "ratings_data_test = ratings_data_test.filter(lambda row: row!=ratings_header_test)\\\n",
    "                        .map(lambda row: row.split(\",\")).map(lambda x: (x[0], x[1], x[2])).cache()\n",
    "\n",
    "ratings_data_test.take(3)"
   ]
  },
  {
   "cell_type": "code",
   "execution_count": 5,
   "metadata": {},
   "outputs": [
    {
     "data": {
      "text/plain": [
       "[('1', '1129'), ('1', '1263'), ('1', '1339'), ('1', '1343'), ('1', '1371')]"
      ]
     },
     "execution_count": 5,
     "metadata": {},
     "output_type": "execute_result"
    }
   ],
   "source": [
    "# For Prediction\n",
    "ratings_predict_test = ratings_data_test.map(lambda x: (x[0], x[1]))\n",
    "ratings_predict_test.take(5)"
   ]
  },
  {
   "cell_type": "code",
   "execution_count": 6,
   "metadata": {},
   "outputs": [
    {
     "name": "stdout",
     "output_type": "stream",
     "text": [
      "rank = 2 , RMSE = 0.9723081251727486\n",
      "rank = 3 , RMSE = 0.9864234284863788\n",
      "rank = 4 , RMSE = 0.9916567716929491\n",
      "rank = 5 , RMSE = 0.9978878865573982\n"
     ]
    }
   ],
   "source": [
    "for i in [2, 3, 4, 5]:\n",
    "    model = ALS.train(ratings_data_train, rank=i, seed=852, iterations=10, lambda_=0.1)\n",
    "\n",
    "    predictions = model.predictAll(ratings_predict_test).map(lambda r: ((r[0], r[1]), r[2]))\n",
    "\n",
    "    ratings_data_predict_test = ratings_data_test.map(lambda r: ((int(r[0]), int(r[1])), float(r[2]))).join(predictions)\n",
    "    RMSE_error = math.sqrt(ratings_data_predict_test.map(lambda r: (r[1][0] - r[1][1]) ** 2).mean())\n",
    "    print('rank =', i, ', RMSE =', RMSE_error)"
   ]
  },
  {
   "cell_type": "code",
   "execution_count": 7,
   "metadata": {},
   "outputs": [
    {
     "name": "stdout",
     "output_type": "stream",
     "text": [
      "rank = 2 , RMSE = 0.9768104957264988\n"
     ]
    }
   ],
   "source": [
    "i = 2\n",
    "\n",
    "model = ALS.train(ratings_data_train, rank=i, seed=853, iterations=10, lambda_=0.1)\n",
    "\n",
    "predictions = model.predictAll(ratings_predict_test).map(lambda r: ((r[0], r[1]), r[2]))\n",
    "\n",
    "ratings_data_predict_test = ratings_data_test.map(lambda r: ((int(r[0]), int(r[1])), float(r[2]))).join(predictions)\n",
    "RMSE_error = math.sqrt(ratings_data_predict_test.map(lambda r: (r[1][0] - r[1][1]) ** 2).mean())\n",
    "print('rank =', i, ', RMSE =', RMSE_error)"
   ]
  },
  {
   "cell_type": "code",
   "execution_count": 8,
   "metadata": {
    "scrolled": true
   },
   "outputs": [
    {
     "data": {
      "text/plain": [
       "37402"
      ]
     },
     "execution_count": 8,
     "metadata": {},
     "output_type": "execute_result"
    }
   ],
   "source": [
    "ratings_data_predict_test.count()"
   ]
  },
  {
   "cell_type": "code",
   "execution_count": 9,
   "metadata": {},
   "outputs": [
    {
     "data": {
      "text/plain": [
       "[Rating(user=1, product=3216, rating=3.7845114112994906),\n",
       " Rating(user=1, product=40412, rating=3.7845114112994906),\n",
       " Rating(user=1, product=3973, rating=3.6423235664183977),\n",
       " Rating(user=1, product=83318, rating=3.578340338039787),\n",
       " Rating(user=1, product=67504, rating=3.578340338039787),\n",
       " Rating(user=1, product=7064, rating=3.5176169578346617),\n",
       " Rating(user=1, product=4086, rating=3.50986179093168),\n",
       " Rating(user=1, product=5765, rating=3.4947689870179772),\n",
       " Rating(user=1, product=33171, rating=3.392569685351816),\n",
       " Rating(user=1, product=6818, rating=3.3673228430238993)]"
      ]
     },
     "execution_count": 9,
     "metadata": {},
     "output_type": "execute_result"
    }
   ],
   "source": [
    "userId = 1\n",
    "\n",
    "model.recommendProducts(userId, 10)"
   ]
  },
  {
   "cell_type": "code",
   "execution_count": 10,
   "metadata": {},
   "outputs": [
    {
     "data": {
      "text/plain": [
       "[Rating(user=543, product=1, rating=5.135956505732757),\n",
       " Rating(user=289, product=1, rating=4.880314944437661),\n",
       " Rating(user=46, product=1, rating=4.866589390827418),\n",
       " Rating(user=401, product=1, rating=4.825002788182802),\n",
       " Rating(user=517, product=1, rating=4.811991645636462),\n",
       " Rating(user=296, product=1, rating=4.805640736003248),\n",
       " Rating(user=656, product=1, rating=4.772424273542519),\n",
       " Rating(user=540, product=1, rating=4.761480394409725),\n",
       " Rating(user=298, product=1, rating=4.74829685027636),\n",
       " Rating(user=568, product=1, rating=4.735384825741399)]"
      ]
     },
     "execution_count": 10,
     "metadata": {},
     "output_type": "execute_result"
    }
   ],
   "source": [
    "movieId = 1\n",
    "\n",
    "model.recommendUsers(movieId, 10)"
   ]
  },
  {
   "cell_type": "code",
   "execution_count": 11,
   "metadata": {
    "scrolled": true
   },
   "outputs": [],
   "source": [
    "csv_ratings_data_predict_test = ratings_data_predict_test.map(lambda x: ','.join(str(d) for d in [x[0][0], x[0][1], x[1][0], x[1][1]]))\n",
    "csv_ratings_data_predict_test.saveAsTextFile(\"Data/temp/User_CF_Test_Result\")"
   ]
  },
  {
   "cell_type": "code",
   "execution_count": 12,
   "metadata": {
    "collapsed": true
   },
   "outputs": [],
   "source": [
    "# Save Model\n",
    "model_path = os.path.join('Data', 'temp', 'ALS_Model')\n",
    "model.save(sc, model_path)\n",
    "\n",
    "# Load Model\n",
    "load_model = MatrixFactorizationModel.load(sc, model_path)"
   ]
  }
 ],
 "metadata": {
  "kernelspec": {
   "display_name": "Python 3",
   "language": "python",
   "name": "python3"
  },
  "language_info": {
   "codemirror_mode": {
    "name": "ipython",
    "version": 3
   },
   "file_extension": ".py",
   "mimetype": "text/x-python",
   "name": "python",
   "nbconvert_exporter": "python",
   "pygments_lexer": "ipython3",
   "version": "3.5.2"
  }
 },
 "nbformat": 4,
 "nbformat_minor": 2
}
