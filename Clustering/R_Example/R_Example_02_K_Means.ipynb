{
 "cells": [
  {
   "cell_type": "markdown",
   "metadata": {},
   "source": [
    "The data shows the information of American colleges and universities in 1995, the detail as below. And we would like to classify good colleges and universities. <br>\n",
    "[ACollege1995R.csv] Columns:<br>\n",
    "app - No. of applicants received<br>\n",
    "acc - No. of applicants accepted<br>\n",
    "enrol - No. of new students enrolled<br>\n",
    "ftime - No. of full-time undergraduates<br>\n",
    "ptime - No. of part-time undergraduate<br>\n",
    "instate - In-state tuition<br>\n",
    "outstate - Out-state tuition<br>\n",
    "rbcost - Room and board cost<br>\n",
    "bkcost - Estimated book cost<br>\n",
    "phd - % of faculty with Ph.D.<br>\n",
    "sfratio - Student/faculty ratio<br>\n",
    "expend - Instructional expenditure per student<br>\n",
    "grad - Graduation rate<br>\n",
    "good (skip) - With 30%+ new students from top 10% high school class."
   ]
  },
  {
   "cell_type": "code",
   "execution_count": 1,
   "metadata": {
    "collapsed": true
   },
   "outputs": [],
   "source": [
    "set.seed(852)\n",
    "data = read.csv('../ACollege1995R2.csv')"
   ]
  },
  {
   "cell_type": "code",
   "execution_count": 2,
   "metadata": {
    "collapsed": true
   },
   "outputs": [],
   "source": [
    "stand<-function(x) {\n",
    "   n<-dim(x)[1]\n",
    "   p<-dim(x)[2]\n",
    "   m<-apply(x,2,mean)\n",
    "   s<-apply(x,2,sd)\n",
    "   m<-matrix(m,nr=n,nc=p,byrow=T)\n",
    "   s<-matrix(s,nr=n,nc=p,byrow=T)\n",
    "   (x-m)/s\n",
    "}"
   ]
  },
  {
   "cell_type": "code",
   "execution_count": 3,
   "metadata": {
    "collapsed": true
   },
   "outputs": [],
   "source": [
    "kmstat<-function(x,k) {\n",
    "  km<-kmeans(x,k)\n",
    "  ng<-km$size\n",
    "  n<-dim(x)[1]\n",
    "  ssw<-sum(km$withinss)\n",
    "  ssb<-km$betweenss\n",
    "  out<-list((n-k)*ssb/((k-1)*ssw),ng,km$cluster)\n",
    "  names(out)<-c(\"stat\",\"size\",\"cluster\")\n",
    "  out\n",
    "}"
   ]
  },
  {
   "cell_type": "code",
   "execution_count": 4,
   "metadata": {
    "collapsed": true
   },
   "outputs": [],
   "source": [
    "km<-function(x,k,try=5) {\n",
    "  res0<-kmstat(x,k)\n",
    "  r0<-res0$stat\n",
    "  for (i in 2:try) {\n",
    "    res<-kmstat(x,k)\n",
    "    if (res$stat>r0) {\n",
    "      r0<-res$stat\n",
    "      res0<-res\n",
    "    }\n",
    "  }\n",
    "  cat(\"cluster size=\",res0$size,\"\\n\")\n",
    "  cat(\"stat=\",res0$stat,\"\\n\")\n",
    "  res0$cluster\n",
    "}"
   ]
  },
  {
   "cell_type": "markdown",
   "metadata": {},
   "source": [
    "K-means is sensitive to the scales, the variables should be standardized before clustering."
   ]
  },
  {
   "cell_type": "code",
   "execution_count": 5,
   "metadata": {
    "collapsed": false
   },
   "outputs": [
    {
     "data": {
      "text/html": [
       "<table>\n",
       "<thead><tr><th scope=col>app</th><th scope=col>acc</th><th scope=col>enrol</th><th scope=col>ftime</th><th scope=col>ptime</th><th scope=col>instate</th><th scope=col>outstate</th><th scope=col>rbcost</th><th scope=col>bkcost</th><th scope=col>phd</th><th scope=col>sfratio</th><th scope=col>expend</th><th scope=col>grad</th><th scope=col>top10</th></tr></thead>\n",
       "<tbody>\n",
       "\t<tr><td>-0.8527574 </td><td>-0.8869562 </td><td>-0.8694966 </td><td>-0.7664787 </td><td> 0.1055483 </td><td>-0.2413727 </td><td>-0.5850801 </td><td>-0.10432093</td><td> 2.0419307 </td><td> 0.3509543 </td><td>-0.6445234 </td><td> 0.56811254</td><td>-2.8510051 </td><td>-0.57495750</td></tr>\n",
       "\t<tr><td>-0.8712810 </td><td>-0.9038552 </td><td>-0.8204474 </td><td>-0.7008337 </td><td> 1.0495614 </td><td>-1.3750130 </td><td>-1.1711688 </td><td> 0.48582708</td><td>-0.2499032 </td><td>-1.9065296 </td><td>-1.2625185 </td><td> 0.21035370</td><td>-1.4382789 </td><td>-1.36843242</td></tr>\n",
       "\t<tr><td>-0.3963675 </td><td>-0.4522447 </td><td>-0.1265461 </td><td>-0.1894510 </td><td>-0.4126956 </td><td>-1.2818745 </td><td>-1.3685406 </td><td>-1.10317392</td><td>-1.7777924 </td><td> 0.1069020 </td><td> 1.1579625 </td><td>-0.77923186</td><td>-0.7319158 </td><td>-0.44271168</td></tr>\n",
       "\t<tr><td> 2.0459885 </td><td> 2.9852397 </td><td> 3.4800097 </td><td> 3.5593378 </td><td> 0.9214454 </td><td>-1.3052565 </td><td>-0.9014776 </td><td>-0.27568378</td><td> 0.5140414 </td><td> 0.9000720 </td><td> 0.5914670 </td><td>-0.57628794</td><td> 0.3276289 </td><td> 0.02014870</td></tr>\n",
       "\t<tr><td>-0.6115565 </td><td>-0.6293925 </td><td>-0.5348082 </td><td>-0.4620263 </td><td>-0.5321422 </td><td> 0.5575145 </td><td> 0.4444675 </td><td> 0.08353675</td><td>-1.0138478 </td><td> 0.2289282 </td><td>-0.1037776 </td><td>-0.03964968</td><td> 0.5042197 </td><td> 2.79731094</td></tr>\n",
       "\t<tr><td>-0.6891980 </td><td>-0.6690177 </td><td>-0.7656277 </td><td>-0.6884070 </td><td>-0.6101677 </td><td>-0.1400504 </td><td>-0.4545033 </td><td>-0.28759671</td><td>-0.2499032 </td><td>-0.4422157 </td><td>-0.7732724 </td><td>-0.29259427</td><td>-1.1439609 </td><td> 0.08627161</td></tr>\n",
       "</tbody>\n",
       "</table>\n"
      ],
      "text/latex": [
       "\\begin{tabular}{r|llllllllllllll}\n",
       " app & acc & enrol & ftime & ptime & instate & outstate & rbcost & bkcost & phd & sfratio & expend & grad & top10\\\\\n",
       "\\hline\n",
       "\t -0.8527574  & -0.8869562  & -0.8694966  & -0.7664787  &  0.1055483  & -0.2413727  & -0.5850801  & -0.10432093 &  2.0419307  &  0.3509543  & -0.6445234  &  0.56811254 & -2.8510051  & -0.57495750\\\\\n",
       "\t -0.8712810  & -0.9038552  & -0.8204474  & -0.7008337  &  1.0495614  & -1.3750130  & -1.1711688  &  0.48582708 & -0.2499032  & -1.9065296  & -1.2625185  &  0.21035370 & -1.4382789  & -1.36843242\\\\\n",
       "\t -0.3963675  & -0.4522447  & -0.1265461  & -0.1894510  & -0.4126956  & -1.2818745  & -1.3685406  & -1.10317392 & -1.7777924  &  0.1069020  &  1.1579625  & -0.77923186 & -0.7319158  & -0.44271168\\\\\n",
       "\t  2.0459885  &  2.9852397  &  3.4800097  &  3.5593378  &  0.9214454  & -1.3052565  & -0.9014776  & -0.27568378 &  0.5140414  &  0.9000720  &  0.5914670  & -0.57628794 &  0.3276289  &  0.02014870\\\\\n",
       "\t -0.6115565  & -0.6293925  & -0.5348082  & -0.4620263  & -0.5321422  &  0.5575145  &  0.4444675  &  0.08353675 & -1.0138478  &  0.2289282  & -0.1037776  & -0.03964968 &  0.5042197  &  2.79731094\\\\\n",
       "\t -0.6891980  & -0.6690177  & -0.7656277  & -0.6884070  & -0.6101677  & -0.1400504  & -0.4545033  & -0.28759671 & -0.2499032  & -0.4422157  & -0.7732724  & -0.29259427 & -1.1439609  &  0.08627161\\\\\n",
       "\\end{tabular}\n"
      ],
      "text/markdown": [
       "\n",
       "app | acc | enrol | ftime | ptime | instate | outstate | rbcost | bkcost | phd | sfratio | expend | grad | top10 | \n",
       "|---|---|---|---|---|---|\n",
       "| -0.8527574  | -0.8869562  | -0.8694966  | -0.7664787  |  0.1055483  | -0.2413727  | -0.5850801  | -0.10432093 |  2.0419307  |  0.3509543  | -0.6445234  |  0.56811254 | -2.8510051  | -0.57495750 | \n",
       "| -0.8712810  | -0.9038552  | -0.8204474  | -0.7008337  |  1.0495614  | -1.3750130  | -1.1711688  |  0.48582708 | -0.2499032  | -1.9065296  | -1.2625185  |  0.21035370 | -1.4382789  | -1.36843242 | \n",
       "| -0.3963675  | -0.4522447  | -0.1265461  | -0.1894510  | -0.4126956  | -1.2818745  | -1.3685406  | -1.10317392 | -1.7777924  |  0.1069020  |  1.1579625  | -0.77923186 | -0.7319158  | -0.44271168 | \n",
       "|  2.0459885  |  2.9852397  |  3.4800097  |  3.5593378  |  0.9214454  | -1.3052565  | -0.9014776  | -0.27568378 |  0.5140414  |  0.9000720  |  0.5914670  | -0.57628794 |  0.3276289  |  0.02014870 | \n",
       "| -0.6115565  | -0.6293925  | -0.5348082  | -0.4620263  | -0.5321422  |  0.5575145  |  0.4444675  |  0.08353675 | -1.0138478  |  0.2289282  | -0.1037776  | -0.03964968 |  0.5042197  |  2.79731094 | \n",
       "| -0.6891980  | -0.6690177  | -0.7656277  | -0.6884070  | -0.6101677  | -0.1400504  | -0.4545033  | -0.28759671 | -0.2499032  | -0.4422157  | -0.7732724  | -0.29259427 | -1.1439609  |  0.08627161 | \n",
       "\n",
       "\n"
      ],
      "text/plain": [
       "  app        acc        enrol      ftime      ptime      instate    outstate  \n",
       "1 -0.8527574 -0.8869562 -0.8694966 -0.7664787  0.1055483 -0.2413727 -0.5850801\n",
       "2 -0.8712810 -0.9038552 -0.8204474 -0.7008337  1.0495614 -1.3750130 -1.1711688\n",
       "3 -0.3963675 -0.4522447 -0.1265461 -0.1894510 -0.4126956 -1.2818745 -1.3685406\n",
       "4  2.0459885  2.9852397  3.4800097  3.5593378  0.9214454 -1.3052565 -0.9014776\n",
       "5 -0.6115565 -0.6293925 -0.5348082 -0.4620263 -0.5321422  0.5575145  0.4444675\n",
       "6 -0.6891980 -0.6690177 -0.7656277 -0.6884070 -0.6101677 -0.1400504 -0.4545033\n",
       "  rbcost      bkcost     phd        sfratio    expend      grad      \n",
       "1 -0.10432093  2.0419307  0.3509543 -0.6445234  0.56811254 -2.8510051\n",
       "2  0.48582708 -0.2499032 -1.9065296 -1.2625185  0.21035370 -1.4382789\n",
       "3 -1.10317392 -1.7777924  0.1069020  1.1579625 -0.77923186 -0.7319158\n",
       "4 -0.27568378  0.5140414  0.9000720  0.5914670 -0.57628794  0.3276289\n",
       "5  0.08353675 -1.0138478  0.2289282 -0.1037776 -0.03964968  0.5042197\n",
       "6 -0.28759671 -0.2499032 -0.4422157 -0.7732724 -0.29259427 -1.1439609\n",
       "  top10      \n",
       "1 -0.57495750\n",
       "2 -1.36843242\n",
       "3 -0.44271168\n",
       "4  0.02014870\n",
       "5  2.79731094\n",
       "6  0.08627161"
      ]
     },
     "metadata": {},
     "output_type": "display_data"
    }
   ],
   "source": [
    "sdata = stand(data)\n",
    "head(sdata)"
   ]
  },
  {
   "cell_type": "code",
   "execution_count": 6,
   "metadata": {
    "collapsed": false
   },
   "outputs": [
    {
     "name": "stdout",
     "output_type": "stream",
     "text": [
      "cluster size= 169 658 \n",
      "stat= 275.0246 \n",
      "cluster size= 135 427 265 \n",
      "stat= 319.4974 \n",
      "cluster size= 185 373 62 207 \n",
      "stat= 275.2495 \n",
      "cluster size= 141 92 59 260 275 \n",
      "stat= 251.5966 \n",
      "cluster size= 229 50 141 106 70 231 \n",
      "stat= 224.6779 \n"
     ]
    }
   ],
   "source": [
    "km2 = km(sdata, 2, try=20)\n",
    "km3 = km(sdata, 3, try=20) # Highest stat value\n",
    "km4 = km(sdata, 4, try=20)\n",
    "km5 = km(sdata, 5, try=20)\n",
    "km6 = km(sdata, 6, try=20)"
   ]
  },
  {
   "cell_type": "code",
   "execution_count": 7,
   "metadata": {
    "collapsed": false
   },
   "outputs": [
    {
     "data": {
      "image/png": "[encoded data removed]",
      "text/plain": [
       "Plot with title “top10”"
      ]
     },
     "metadata": {},
     "output_type": "display_data"
    }
   ],
   "source": [
    "par(mar=c(2,2,2,2),mfrow=c(3,5))\n",
    "lab = factor(km3)\n",
    "plot(lab, sdata$app,main=\"app\")\n",
    "plot(lab, sdata$acc,main=\"acc\")\n",
    "plot(lab, sdata$enrol,main=\"enrol\")\n",
    "plot(lab, sdata$ftime,main=\"ftime\")\n",
    "plot(lab, sdata$ptime,main=\"ptime\")\n",
    "plot(lab, sdata$instate,main=\"instate\")\n",
    "plot(lab, sdata$outstate,main=\"outstate\")\n",
    "plot(lab, sdata$rbcost,main=\"rbcost\")\n",
    "plot(lab, sdata$bkcost,main=\"bkcost\")\n",
    "plot(lab, sdata$phd,main=\"phd\") \n",
    "plot(lab, sdata$sfratio,main=\"sfratio\") \n",
    "plot(lab, sdata$expend,main=\"expend\") \n",
    "plot(lab, sdata$grad,main=\"grad\") \n",
    "plot(lab, sdata$top10,main=\"top10\")"
   ]
  },
  {
   "cell_type": "markdown",
   "metadata": {},
   "source": [
    "# Conclusion\n",
    "\n",
    "## Cluster 1\n",
    "Lower phd\n",
    "\n",
    "## Cluster 2\n",
    "\n",
    "Higher instate, outstate, rbcost, expend, grad, top10\n",
    "\n",
    "## Cluster 3\n",
    "Higher app, acc, enrol, ftime, ptime"
   ]
  }
 ],
 "metadata": {
  "kernelspec": {
   "display_name": "R",
   "language": "R",
   "name": "ir"
  },
  "language_info": {
   "codemirror_mode": "r",
   "file_extension": ".r",
   "mimetype": "text/x-r-source",
   "name": "R",
   "pygments_lexer": "r",
   "version": "3.3.2"
  }
 },
 "nbformat": 4,
 "nbformat_minor": 2
}
