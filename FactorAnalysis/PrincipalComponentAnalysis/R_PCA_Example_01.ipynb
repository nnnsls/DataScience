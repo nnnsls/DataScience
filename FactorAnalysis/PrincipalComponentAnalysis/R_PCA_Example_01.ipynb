{
 "cells": [
  {
   "cell_type": "code",
   "execution_count": 1,
   "metadata": {},
   "outputs": [
    {
     "name": "stderr",
     "output_type": "stream",
     "text": [
      "Loading required package: MASS\n",
      "Loading required package: boot\n",
      "\n",
      "Attaching package: ‘boot’\n",
      "\n",
      "The following object is masked from ‘package:psych’:\n",
      "\n",
      "    logit\n",
      "\n",
      "Loading required package: lattice\n",
      "\n",
      "Attaching package: ‘lattice’\n",
      "\n",
      "The following object is masked from ‘package:boot’:\n",
      "\n",
      "    melanoma\n",
      "\n",
      "\n",
      "Attaching package: ‘nFactors’\n",
      "\n",
      "The following object is masked from ‘package:lattice’:\n",
      "\n",
      "    parallel\n",
      "\n"
     ]
    }
   ],
   "source": [
    "library(psych)\n",
    "library(nFactors)"
   ]
  },
  {
   "cell_type": "markdown",
   "metadata": {},
   "source": [
    "The General Aptitude Test Battery (GATB) is an occupationally oriented multi-aptitude test that measures distinct aptitudes using 12 separate tests (8 pencil and paper tests, and 4 performance tests). The tests are supposed to capture people’s different abilities including the cognitive, perceptual, and psychomotor domains. In a study, the 12 GATB tests were administrated to 255 individuals, and the following is the sample covariance matrix of the\n",
    "variables."
   ]
  },
  {
   "cell_type": "code",
   "execution_count": 2,
   "metadata": {},
   "outputs": [
    {
     "data": {
      "text/html": [
       "<table>\n",
       "<thead><tr><th scope=col>V.1</th><th scope=col>V.2</th><th scope=col>V.3</th><th scope=col>V.4</th><th scope=col>V.5</th><th scope=col>V.6</th><th scope=col>V.7</th><th scope=col>V.8</th><th scope=col>V.9</th><th scope=col>V.10</th><th scope=col>V.11</th><th scope=col>V.12</th></tr></thead>\n",
       "<tbody>\n",
       "\t<tr><td>1.02</td><td>0.30</td><td>0.66</td><td>0.34</td><td>0.79</td><td>0.25</td><td>0.70</td><td>0.26</td><td>0.34</td><td>0.35</td><td>0.39</td><td>0.35</td></tr>\n",
       "\t<tr><td>0.30</td><td>1.01</td><td>0.37</td><td>0.58</td><td>0.47</td><td>0.76</td><td>0.41</td><td>0.20</td><td>0.30</td><td>0.25</td><td>0.32</td><td>0.33</td></tr>\n",
       "\t<tr><td>0.66</td><td>0.37</td><td>1.00</td><td>0.53</td><td>0.55</td><td>0.47</td><td>0.58</td><td>0.25</td><td>0.28</td><td>0.28</td><td>0.36</td><td>0.23</td></tr>\n",
       "\t<tr><td>0.34</td><td>0.58</td><td>0.53</td><td>1.03</td><td>0.43</td><td>0.62</td><td>0.44</td><td>0.17</td><td>0.21</td><td>0.21</td><td>0.27</td><td>0.28</td></tr>\n",
       "\t<tr><td>0.79</td><td>0.47</td><td>0.55</td><td>0.43</td><td>1.02</td><td>0.37</td><td>0.53</td><td>0.24</td><td>0.29</td><td>0.34</td><td>0.36</td><td>0.27</td></tr>\n",
       "\t<tr><td>0.25</td><td>0.76</td><td>0.47</td><td>0.62</td><td>0.37</td><td>1.00</td><td>0.40</td><td>0.21</td><td>0.30</td><td>0.23</td><td>0.21</td><td>0.31</td></tr>\n",
       "\t<tr><td>0.70</td><td>0.41</td><td>0.58</td><td>0.44</td><td>0.53</td><td>0.40</td><td>1.03</td><td>0.39</td><td>0.32</td><td>0.40</td><td>0.44</td><td>0.43</td></tr>\n",
       "\t<tr><td>0.26</td><td>0.20</td><td>0.25</td><td>0.17</td><td>0.24</td><td>0.21</td><td>0.39</td><td>1.04</td><td>0.49</td><td>0.54</td><td>0.44</td><td>0.42</td></tr>\n",
       "\t<tr><td>0.34</td><td>0.30</td><td>0.28</td><td>0.21</td><td>0.29</td><td>0.30</td><td>0.32</td><td>0.49</td><td>1.01</td><td>0.77</td><td>0.47</td><td>0.45</td></tr>\n",
       "\t<tr><td>0.35</td><td>0.25</td><td>0.28</td><td>0.21</td><td>0.34</td><td>0.23</td><td>0.40</td><td>0.54</td><td>0.77</td><td>1.04</td><td>0.48</td><td>0.48</td></tr>\n",
       "\t<tr><td>0.39</td><td>0.32</td><td>0.36</td><td>0.27</td><td>0.36</td><td>0.21</td><td>0.44</td><td>0.44</td><td>0.47</td><td>0.48</td><td>1.03</td><td>0.68</td></tr>\n",
       "\t<tr><td>0.35</td><td>0.33</td><td>0.23</td><td>0.28</td><td>0.27</td><td>0.31</td><td>0.43</td><td>0.42</td><td>0.45</td><td>0.48</td><td>0.68</td><td>1.01</td></tr>\n",
       "</tbody>\n",
       "</table>\n"
      ],
      "text/latex": [
       "\\begin{tabular}{llllllllllll}\n",
       " V.1 & V.2 & V.3 & V.4 & V.5 & V.6 & V.7 & V.8 & V.9 & V.10 & V.11 & V.12\\\\\n",
       "\\hline\n",
       "\t 1.02 & 0.30 & 0.66 & 0.34 & 0.79 & 0.25 & 0.70 & 0.26 & 0.34 & 0.35 & 0.39 & 0.35\\\\\n",
       "\t 0.30 & 1.01 & 0.37 & 0.58 & 0.47 & 0.76 & 0.41 & 0.20 & 0.30 & 0.25 & 0.32 & 0.33\\\\\n",
       "\t 0.66 & 0.37 & 1.00 & 0.53 & 0.55 & 0.47 & 0.58 & 0.25 & 0.28 & 0.28 & 0.36 & 0.23\\\\\n",
       "\t 0.34 & 0.58 & 0.53 & 1.03 & 0.43 & 0.62 & 0.44 & 0.17 & 0.21 & 0.21 & 0.27 & 0.28\\\\\n",
       "\t 0.79 & 0.47 & 0.55 & 0.43 & 1.02 & 0.37 & 0.53 & 0.24 & 0.29 & 0.34 & 0.36 & 0.27\\\\\n",
       "\t 0.25 & 0.76 & 0.47 & 0.62 & 0.37 & 1.00 & 0.40 & 0.21 & 0.30 & 0.23 & 0.21 & 0.31\\\\\n",
       "\t 0.70 & 0.41 & 0.58 & 0.44 & 0.53 & 0.40 & 1.03 & 0.39 & 0.32 & 0.40 & 0.44 & 0.43\\\\\n",
       "\t 0.26 & 0.20 & 0.25 & 0.17 & 0.24 & 0.21 & 0.39 & 1.04 & 0.49 & 0.54 & 0.44 & 0.42\\\\\n",
       "\t 0.34 & 0.30 & 0.28 & 0.21 & 0.29 & 0.30 & 0.32 & 0.49 & 1.01 & 0.77 & 0.47 & 0.45\\\\\n",
       "\t 0.35 & 0.25 & 0.28 & 0.21 & 0.34 & 0.23 & 0.40 & 0.54 & 0.77 & 1.04 & 0.48 & 0.48\\\\\n",
       "\t 0.39 & 0.32 & 0.36 & 0.27 & 0.36 & 0.21 & 0.44 & 0.44 & 0.47 & 0.48 & 1.03 & 0.68\\\\\n",
       "\t 0.35 & 0.33 & 0.23 & 0.28 & 0.27 & 0.31 & 0.43 & 0.42 & 0.45 & 0.48 & 0.68 & 1.01\\\\\n",
       "\\end{tabular}\n"
      ],
      "text/markdown": [
       "\n",
       "V.1 | V.2 | V.3 | V.4 | V.5 | V.6 | V.7 | V.8 | V.9 | V.10 | V.11 | V.12 | \n",
       "|---|---|---|---|---|---|---|---|---|---|---|---|\n",
       "| 1.02 | 0.30 | 0.66 | 0.34 | 0.79 | 0.25 | 0.70 | 0.26 | 0.34 | 0.35 | 0.39 | 0.35 | \n",
       "| 0.30 | 1.01 | 0.37 | 0.58 | 0.47 | 0.76 | 0.41 | 0.20 | 0.30 | 0.25 | 0.32 | 0.33 | \n",
       "| 0.66 | 0.37 | 1.00 | 0.53 | 0.55 | 0.47 | 0.58 | 0.25 | 0.28 | 0.28 | 0.36 | 0.23 | \n",
       "| 0.34 | 0.58 | 0.53 | 1.03 | 0.43 | 0.62 | 0.44 | 0.17 | 0.21 | 0.21 | 0.27 | 0.28 | \n",
       "| 0.79 | 0.47 | 0.55 | 0.43 | 1.02 | 0.37 | 0.53 | 0.24 | 0.29 | 0.34 | 0.36 | 0.27 | \n",
       "| 0.25 | 0.76 | 0.47 | 0.62 | 0.37 | 1.00 | 0.40 | 0.21 | 0.30 | 0.23 | 0.21 | 0.31 | \n",
       "| 0.70 | 0.41 | 0.58 | 0.44 | 0.53 | 0.40 | 1.03 | 0.39 | 0.32 | 0.40 | 0.44 | 0.43 | \n",
       "| 0.26 | 0.20 | 0.25 | 0.17 | 0.24 | 0.21 | 0.39 | 1.04 | 0.49 | 0.54 | 0.44 | 0.42 | \n",
       "| 0.34 | 0.30 | 0.28 | 0.21 | 0.29 | 0.30 | 0.32 | 0.49 | 1.01 | 0.77 | 0.47 | 0.45 | \n",
       "| 0.35 | 0.25 | 0.28 | 0.21 | 0.34 | 0.23 | 0.40 | 0.54 | 0.77 | 1.04 | 0.48 | 0.48 | \n",
       "| 0.39 | 0.32 | 0.36 | 0.27 | 0.36 | 0.21 | 0.44 | 0.44 | 0.47 | 0.48 | 1.03 | 0.68 | \n",
       "| 0.35 | 0.33 | 0.23 | 0.28 | 0.27 | 0.31 | 0.43 | 0.42 | 0.45 | 0.48 | 0.68 | 1.01 | \n",
       "\n",
       "\n"
      ],
      "text/plain": [
       "      V.1  V.2  V.3  V.4  V.5  V.6  V.7  V.8  V.9  V.10 V.11 V.12\n",
       " [1,] 1.02 0.30 0.66 0.34 0.79 0.25 0.70 0.26 0.34 0.35 0.39 0.35\n",
       " [2,] 0.30 1.01 0.37 0.58 0.47 0.76 0.41 0.20 0.30 0.25 0.32 0.33\n",
       " [3,] 0.66 0.37 1.00 0.53 0.55 0.47 0.58 0.25 0.28 0.28 0.36 0.23\n",
       " [4,] 0.34 0.58 0.53 1.03 0.43 0.62 0.44 0.17 0.21 0.21 0.27 0.28\n",
       " [5,] 0.79 0.47 0.55 0.43 1.02 0.37 0.53 0.24 0.29 0.34 0.36 0.27\n",
       " [6,] 0.25 0.76 0.47 0.62 0.37 1.00 0.40 0.21 0.30 0.23 0.21 0.31\n",
       " [7,] 0.70 0.41 0.58 0.44 0.53 0.40 1.03 0.39 0.32 0.40 0.44 0.43\n",
       " [8,] 0.26 0.20 0.25 0.17 0.24 0.21 0.39 1.04 0.49 0.54 0.44 0.42\n",
       " [9,] 0.34 0.30 0.28 0.21 0.29 0.30 0.32 0.49 1.01 0.77 0.47 0.45\n",
       "[10,] 0.35 0.25 0.28 0.21 0.34 0.23 0.40 0.54 0.77 1.04 0.48 0.48\n",
       "[11,] 0.39 0.32 0.36 0.27 0.36 0.21 0.44 0.44 0.47 0.48 1.03 0.68\n",
       "[12,] 0.35 0.33 0.23 0.28 0.27 0.31 0.43 0.42 0.45 0.48 0.68 1.01"
      ]
     },
     "metadata": {},
     "output_type": "display_data"
    }
   ],
   "source": [
    "data = as.matrix(read.table('GATB.cov', fill=TRUE, col.names=paste(\"V\", 1:12)))\n",
    "data[upper.tri(data)] <- t(data)[upper.tri(data)]\n",
    "data"
   ]
  },
  {
   "cell_type": "markdown",
   "metadata": {},
   "source": [
    "V.1  = Name comparison (clerical perception)<br>\n",
    "V.2  = Arithmetic reasoning (numerical aptitude)<br>\n",
    "V.3  = Three dimensional space (spatial aptitude)<br>\n",
    "V.4  = Vocabulary (verbal aptitude)<br>\n",
    "V.5  = Tool matching (form perception)<br>\n",
    "V.6  = Computational (numerical aptitude)<br>\n",
    "V.7  = Shape matching (form perception)<br>\n",
    "V.8  = Mark making (motor coordination)<br>\n",
    "V.9  = Place (manual dexterity)<br>\n",
    "V.10 = Turn (manual dexterity)<br>\n",
    "V.11 = Assemble (finger dexterity)<br>\n",
    "V.12 = Dissemble (finger dexterity)"
   ]
  },
  {
   "cell_type": "code",
   "execution_count": 3,
   "metadata": {},
   "outputs": [
    {
     "data": {
      "text/html": [
       "<table>\n",
       "<thead><tr><th scope=col>V.1</th><th scope=col>V.2</th><th scope=col>V.3</th><th scope=col>V.4</th><th scope=col>V.5</th><th scope=col>V.6</th><th scope=col>V.7</th><th scope=col>V.8</th><th scope=col>V.9</th><th scope=col>V.10</th><th scope=col>V.11</th><th scope=col>V.12</th></tr></thead>\n",
       "<tbody>\n",
       "\t<tr><td>1.0000000</td><td>0.2955701</td><td>0.6534974</td><td>0.3317113</td><td>0.7745098</td><td>0.2475369</td><td>0.6829350</td><td>0.2524391</td><td>0.3349794</td><td>0.3398218</td><td>0.3804923</td><td>0.3448318</td></tr>\n",
       "\t<tr><td>0.2955701</td><td>1.0000000</td><td>0.3681638</td><td>0.5686548</td><td>0.4630598</td><td>0.7562283</td><td>0.4019801</td><td>0.1951428</td><td>0.2970297</td><td>0.2439286</td><td>0.3137406</td><td>0.3267327</td></tr>\n",
       "\t<tr><td>0.6534974</td><td>0.3681638</td><td>1.0000000</td><td>0.5222245</td><td>0.5445811</td><td>0.4700000</td><td>0.5714910</td><td>0.2451452</td><td>0.2786104</td><td>0.2745626</td><td>0.3547185</td><td>0.2288586</td></tr>\n",
       "\t<tr><td>0.3317113</td><td>0.5686548</td><td>0.5222245</td><td>1.0000000</td><td>0.4195172</td><td>0.6109042</td><td>0.4271845</td><td>0.1642531</td><td>0.2058922</td><td>0.2029009</td><td>0.2621359</td><td>0.2745230</td></tr>\n",
       "\t<tr><td>0.7745098</td><td>0.4630598</td><td>0.5445811</td><td>0.4195172</td><td>1.0000000</td><td>0.3663546</td><td>0.5170793</td><td>0.2330207</td><td>0.2857178</td><td>0.3301126</td><td>0.3512237</td><td>0.2660131</td></tr>\n",
       "\t<tr><td>0.2475369</td><td>0.7562283</td><td>0.4700000</td><td>0.6109042</td><td>0.3663546</td><td>1.0000000</td><td>0.3941317</td><td>0.2059219</td><td>0.2985112</td><td>0.2255336</td><td>0.2069191</td><td>0.3084615</td></tr>\n",
       "\t<tr><td>0.6829350</td><td>0.4019801</td><td>0.5714910</td><td>0.4271845</td><td>0.5170793</td><td>0.3941317</td><td>1.0000000</td><td>0.3768160</td><td>0.3137406</td><td>0.3864779</td><td>0.4271845</td><td>0.4215889</td></tr>\n",
       "\t<tr><td>0.2524391</td><td>0.1951428</td><td>0.2451452</td><td>0.1642531</td><td>0.2330207</td><td>0.2059219</td><td>0.3768160</td><td>1.0000000</td><td>0.4781000</td><td>0.5192308</td><td>0.4251257</td><td>0.4098000</td></tr>\n",
       "\t<tr><td>0.3349794</td><td>0.2970297</td><td>0.2786104</td><td>0.2058922</td><td>0.2857178</td><td>0.2985112</td><td>0.3137406</td><td>0.4781000</td><td>1.0000000</td><td>0.7513000</td><td>0.4608065</td><td>0.4455446</td></tr>\n",
       "\t<tr><td>0.3398218</td><td>0.2439286</td><td>0.2745626</td><td>0.2029009</td><td>0.3301126</td><td>0.2255336</td><td>0.3864779</td><td>0.5192308</td><td>0.7513000</td><td>1.0000000</td><td>0.4637735</td><td>0.4683428</td></tr>\n",
       "\t<tr><td>0.3804923</td><td>0.3137406</td><td>0.3547185</td><td>0.2621359</td><td>0.3512237</td><td>0.2069191</td><td>0.4271845</td><td>0.4251257</td><td>0.4608065</td><td>0.4637735</td><td>1.0000000</td><td>0.6666987</td></tr>\n",
       "\t<tr><td>0.3448318</td><td>0.3267327</td><td>0.2288586</td><td>0.2745230</td><td>0.2660131</td><td>0.3084615</td><td>0.4215889</td><td>0.4098000</td><td>0.4455446</td><td>0.4683428</td><td>0.6666987</td><td>1.0000000</td></tr>\n",
       "</tbody>\n",
       "</table>\n"
      ],
      "text/latex": [
       "\\begin{tabular}{llllllllllll}\n",
       " V.1 & V.2 & V.3 & V.4 & V.5 & V.6 & V.7 & V.8 & V.9 & V.10 & V.11 & V.12\\\\\n",
       "\\hline\n",
       "\t 1.0000000 & 0.2955701 & 0.6534974 & 0.3317113 & 0.7745098 & 0.2475369 & 0.6829350 & 0.2524391 & 0.3349794 & 0.3398218 & 0.3804923 & 0.3448318\\\\\n",
       "\t 0.2955701 & 1.0000000 & 0.3681638 & 0.5686548 & 0.4630598 & 0.7562283 & 0.4019801 & 0.1951428 & 0.2970297 & 0.2439286 & 0.3137406 & 0.3267327\\\\\n",
       "\t 0.6534974 & 0.3681638 & 1.0000000 & 0.5222245 & 0.5445811 & 0.4700000 & 0.5714910 & 0.2451452 & 0.2786104 & 0.2745626 & 0.3547185 & 0.2288586\\\\\n",
       "\t 0.3317113 & 0.5686548 & 0.5222245 & 1.0000000 & 0.4195172 & 0.6109042 & 0.4271845 & 0.1642531 & 0.2058922 & 0.2029009 & 0.2621359 & 0.2745230\\\\\n",
       "\t 0.7745098 & 0.4630598 & 0.5445811 & 0.4195172 & 1.0000000 & 0.3663546 & 0.5170793 & 0.2330207 & 0.2857178 & 0.3301126 & 0.3512237 & 0.2660131\\\\\n",
       "\t 0.2475369 & 0.7562283 & 0.4700000 & 0.6109042 & 0.3663546 & 1.0000000 & 0.3941317 & 0.2059219 & 0.2985112 & 0.2255336 & 0.2069191 & 0.3084615\\\\\n",
       "\t 0.6829350 & 0.4019801 & 0.5714910 & 0.4271845 & 0.5170793 & 0.3941317 & 1.0000000 & 0.3768160 & 0.3137406 & 0.3864779 & 0.4271845 & 0.4215889\\\\\n",
       "\t 0.2524391 & 0.1951428 & 0.2451452 & 0.1642531 & 0.2330207 & 0.2059219 & 0.3768160 & 1.0000000 & 0.4781000 & 0.5192308 & 0.4251257 & 0.4098000\\\\\n",
       "\t 0.3349794 & 0.2970297 & 0.2786104 & 0.2058922 & 0.2857178 & 0.2985112 & 0.3137406 & 0.4781000 & 1.0000000 & 0.7513000 & 0.4608065 & 0.4455446\\\\\n",
       "\t 0.3398218 & 0.2439286 & 0.2745626 & 0.2029009 & 0.3301126 & 0.2255336 & 0.3864779 & 0.5192308 & 0.7513000 & 1.0000000 & 0.4637735 & 0.4683428\\\\\n",
       "\t 0.3804923 & 0.3137406 & 0.3547185 & 0.2621359 & 0.3512237 & 0.2069191 & 0.4271845 & 0.4251257 & 0.4608065 & 0.4637735 & 1.0000000 & 0.6666987\\\\\n",
       "\t 0.3448318 & 0.3267327 & 0.2288586 & 0.2745230 & 0.2660131 & 0.3084615 & 0.4215889 & 0.4098000 & 0.4455446 & 0.4683428 & 0.6666987 & 1.0000000\\\\\n",
       "\\end{tabular}\n"
      ],
      "text/markdown": [
       "\n",
       "V.1 | V.2 | V.3 | V.4 | V.5 | V.6 | V.7 | V.8 | V.9 | V.10 | V.11 | V.12 | \n",
       "|---|---|---|---|---|---|---|---|---|---|---|---|\n",
       "| 1.0000000 | 0.2955701 | 0.6534974 | 0.3317113 | 0.7745098 | 0.2475369 | 0.6829350 | 0.2524391 | 0.3349794 | 0.3398218 | 0.3804923 | 0.3448318 | \n",
       "| 0.2955701 | 1.0000000 | 0.3681638 | 0.5686548 | 0.4630598 | 0.7562283 | 0.4019801 | 0.1951428 | 0.2970297 | 0.2439286 | 0.3137406 | 0.3267327 | \n",
       "| 0.6534974 | 0.3681638 | 1.0000000 | 0.5222245 | 0.5445811 | 0.4700000 | 0.5714910 | 0.2451452 | 0.2786104 | 0.2745626 | 0.3547185 | 0.2288586 | \n",
       "| 0.3317113 | 0.5686548 | 0.5222245 | 1.0000000 | 0.4195172 | 0.6109042 | 0.4271845 | 0.1642531 | 0.2058922 | 0.2029009 | 0.2621359 | 0.2745230 | \n",
       "| 0.7745098 | 0.4630598 | 0.5445811 | 0.4195172 | 1.0000000 | 0.3663546 | 0.5170793 | 0.2330207 | 0.2857178 | 0.3301126 | 0.3512237 | 0.2660131 | \n",
       "| 0.2475369 | 0.7562283 | 0.4700000 | 0.6109042 | 0.3663546 | 1.0000000 | 0.3941317 | 0.2059219 | 0.2985112 | 0.2255336 | 0.2069191 | 0.3084615 | \n",
       "| 0.6829350 | 0.4019801 | 0.5714910 | 0.4271845 | 0.5170793 | 0.3941317 | 1.0000000 | 0.3768160 | 0.3137406 | 0.3864779 | 0.4271845 | 0.4215889 | \n",
       "| 0.2524391 | 0.1951428 | 0.2451452 | 0.1642531 | 0.2330207 | 0.2059219 | 0.3768160 | 1.0000000 | 0.4781000 | 0.5192308 | 0.4251257 | 0.4098000 | \n",
       "| 0.3349794 | 0.2970297 | 0.2786104 | 0.2058922 | 0.2857178 | 0.2985112 | 0.3137406 | 0.4781000 | 1.0000000 | 0.7513000 | 0.4608065 | 0.4455446 | \n",
       "| 0.3398218 | 0.2439286 | 0.2745626 | 0.2029009 | 0.3301126 | 0.2255336 | 0.3864779 | 0.5192308 | 0.7513000 | 1.0000000 | 0.4637735 | 0.4683428 | \n",
       "| 0.3804923 | 0.3137406 | 0.3547185 | 0.2621359 | 0.3512237 | 0.2069191 | 0.4271845 | 0.4251257 | 0.4608065 | 0.4637735 | 1.0000000 | 0.6666987 | \n",
       "| 0.3448318 | 0.3267327 | 0.2288586 | 0.2745230 | 0.2660131 | 0.3084615 | 0.4215889 | 0.4098000 | 0.4455446 | 0.4683428 | 0.6666987 | 1.0000000 | \n",
       "\n",
       "\n"
      ],
      "text/plain": [
       "      V.1       V.2       V.3       V.4       V.5       V.6       V.7      \n",
       " [1,] 1.0000000 0.2955701 0.6534974 0.3317113 0.7745098 0.2475369 0.6829350\n",
       " [2,] 0.2955701 1.0000000 0.3681638 0.5686548 0.4630598 0.7562283 0.4019801\n",
       " [3,] 0.6534974 0.3681638 1.0000000 0.5222245 0.5445811 0.4700000 0.5714910\n",
       " [4,] 0.3317113 0.5686548 0.5222245 1.0000000 0.4195172 0.6109042 0.4271845\n",
       " [5,] 0.7745098 0.4630598 0.5445811 0.4195172 1.0000000 0.3663546 0.5170793\n",
       " [6,] 0.2475369 0.7562283 0.4700000 0.6109042 0.3663546 1.0000000 0.3941317\n",
       " [7,] 0.6829350 0.4019801 0.5714910 0.4271845 0.5170793 0.3941317 1.0000000\n",
       " [8,] 0.2524391 0.1951428 0.2451452 0.1642531 0.2330207 0.2059219 0.3768160\n",
       " [9,] 0.3349794 0.2970297 0.2786104 0.2058922 0.2857178 0.2985112 0.3137406\n",
       "[10,] 0.3398218 0.2439286 0.2745626 0.2029009 0.3301126 0.2255336 0.3864779\n",
       "[11,] 0.3804923 0.3137406 0.3547185 0.2621359 0.3512237 0.2069191 0.4271845\n",
       "[12,] 0.3448318 0.3267327 0.2288586 0.2745230 0.2660131 0.3084615 0.4215889\n",
       "      V.8       V.9       V.10      V.11      V.12     \n",
       " [1,] 0.2524391 0.3349794 0.3398218 0.3804923 0.3448318\n",
       " [2,] 0.1951428 0.2970297 0.2439286 0.3137406 0.3267327\n",
       " [3,] 0.2451452 0.2786104 0.2745626 0.3547185 0.2288586\n",
       " [4,] 0.1642531 0.2058922 0.2029009 0.2621359 0.2745230\n",
       " [5,] 0.2330207 0.2857178 0.3301126 0.3512237 0.2660131\n",
       " [6,] 0.2059219 0.2985112 0.2255336 0.2069191 0.3084615\n",
       " [7,] 0.3768160 0.3137406 0.3864779 0.4271845 0.4215889\n",
       " [8,] 1.0000000 0.4781000 0.5192308 0.4251257 0.4098000\n",
       " [9,] 0.4781000 1.0000000 0.7513000 0.4608065 0.4455446\n",
       "[10,] 0.5192308 0.7513000 1.0000000 0.4637735 0.4683428\n",
       "[11,] 0.4251257 0.4608065 0.4637735 1.0000000 0.6666987\n",
       "[12,] 0.4098000 0.4455446 0.4683428 0.6666987 1.0000000"
      ]
     },
     "metadata": {},
     "output_type": "display_data"
    }
   ],
   "source": [
    "nobs = 255 # the 12 GATB tests were administrated to 255 individuals\n",
    "p = ncol(data) # number of tests\n",
    "data = cov2cor(data) # convert cov matrix to cor matrix \n",
    "data"
   ]
  },
  {
   "cell_type": "code",
   "execution_count": 4,
   "metadata": {},
   "outputs": [
    {
     "name": "stdout",
     "output_type": "stream",
     "text": [
      "So from Bartlett's test, p-value =  0 < 0.05 and we reject H0: all variables are independent."
     ]
    }
   ],
   "source": [
    "# Bartlett's test of sphericity\n",
    "# H0 : All variables are independent\n",
    "bartlett = -1 * (nobs - 1 - (2 * p + 5) / 6) * log(det(data))\n",
    "df = p * (p - 1) / 2\n",
    "pval = 1 - pchisq(bartlett, df)\n",
    "cat('So from Bartlett\\'s test, p-value = ', pval, '< 0.05 and we reject H0: all variables are independent.')"
   ]
  },
  {
   "cell_type": "code",
   "execution_count": 5,
   "metadata": {},
   "outputs": [
    {
     "data": {
      "text/plain": [
       "Kaiser-Meyer-Olkin factor adequacy\n",
       "Call: KMO(r = data)\n",
       "Overall MSA =  0.79\n",
       "MSA for each item = \n",
       " V.1  V.2  V.3  V.4  V.5  V.6  V.7  V.8  V.9 V.10 V.11 V.12 \n",
       "0.69 0.79 0.81 0.90 0.76 0.73 0.85 0.91 0.76 0.78 0.79 0.78 "
      ]
     },
     "metadata": {},
     "output_type": "display_data"
    },
    {
     "name": "stdout",
     "output_type": "stream",
     "text": [
      "KMO value is fine, and hence the sampling adequacy is fine."
     ]
    }
   ],
   "source": [
    "(kmo = KMO(data))\n",
    "cat('KMO value is fine, and hence the sampling adequacy is fine.')"
   ]
  },
  {
   "cell_type": "code",
   "execution_count": 6,
   "metadata": {},
   "outputs": [
    {
     "data": {
      "text/plain": [
       "Principal Components Analysis\n",
       "Call: principal(r = data, nfactors = p, residuals = FALSE, rotate = \"none\", \n",
       "    n.obs = nobs, scores = TRUE)\n",
       "Standardized loadings (pattern matrix) based upon correlation matrix\n",
       "    PC1   PC2   PC3   PC4   PC5   PC6   PC7   PC8   PC9  PC10  PC11  PC12 h2\n",
       "1  0.73 -0.15 -0.59  0.02 -0.11  0.07 -0.05  0.01  0.11  0.11  0.05  0.23  1\n",
       "2  0.65 -0.38  0.47 -0.01 -0.17  0.28 -0.01 -0.10 -0.17  0.00  0.25  0.00  1\n",
       "3  0.71 -0.33 -0.27  0.08  0.20 -0.36  0.09 -0.31  0.09 -0.10  0.12 -0.08  1\n",
       "4  0.63 -0.46  0.27 -0.03  0.13 -0.30  0.17  0.42 -0.03  0.08  0.01  0.03  1\n",
       "5  0.71 -0.26 -0.38  0.10 -0.27  0.28  0.25  0.12  0.05 -0.06 -0.11 -0.15  1\n",
       "6  0.64 -0.42  0.51  0.09  0.03  0.06 -0.11 -0.19  0.15 -0.05 -0.25  0.07  1\n",
       "7  0.76 -0.10 -0.28 -0.10  0.24  0.06 -0.45  0.08 -0.22  0.03 -0.06 -0.09  1\n",
       "8  0.55  0.48  0.07  0.14  0.56  0.30  0.21  0.01  0.06  0.04  0.02  0.02  1\n",
       "9  0.64  0.49  0.16  0.38 -0.22 -0.15 -0.05 -0.08  0.01  0.31 -0.01 -0.07  1\n",
       "10 0.64  0.54  0.07  0.35 -0.14 -0.11 -0.08  0.14 -0.07 -0.32  0.02  0.06  1\n",
       "11 0.66  0.37  0.00 -0.48 -0.09 -0.11  0.24 -0.16 -0.28  0.01 -0.11  0.05  1\n",
       "12 0.64  0.38  0.16 -0.51 -0.09  0.00 -0.14  0.09  0.34 -0.03  0.08 -0.06  1\n",
       "        u2 com\n",
       "1  1.1e-16 2.5\n",
       "2  3.6e-15 3.8\n",
       "3  1.1e-15 3.4\n",
       "4  1.8e-15 4.1\n",
       "5  2.1e-15 3.3\n",
       "6  2.1e-15 3.7\n",
       "7  1.7e-15 2.6\n",
       "8  6.7e-16 4.0\n",
       "9  4.4e-16 3.9\n",
       "10 1.7e-15 3.6\n",
       "11 2.2e-15 3.6\n",
       "12 6.7e-16 3.7\n",
       "\n",
       "                       PC1  PC2  PC3  PC4  PC5  PC6  PC7  PC8  PC9 PC10 PC11\n",
       "SS loadings           5.30 1.79 1.25 0.81 0.62 0.53 0.44 0.40 0.32 0.24 0.18\n",
       "Proportion Var        0.44 0.15 0.10 0.07 0.05 0.04 0.04 0.03 0.03 0.02 0.02\n",
       "Cumulative Var        0.44 0.59 0.69 0.76 0.81 0.86 0.90 0.93 0.96 0.98 0.99\n",
       "Proportion Explained  0.44 0.15 0.10 0.07 0.05 0.04 0.04 0.03 0.03 0.02 0.02\n",
       "Cumulative Proportion 0.44 0.59 0.69 0.76 0.81 0.86 0.90 0.93 0.96 0.98 0.99\n",
       "                      PC12\n",
       "SS loadings           0.12\n",
       "Proportion Var        0.01\n",
       "Cumulative Var        1.00\n",
       "Proportion Explained  0.01\n",
       "Cumulative Proportion 1.00\n",
       "\n",
       "Mean item complexity =  3.5\n",
       "Test of the hypothesis that 12 components are sufficient.\n",
       "\n",
       "The root mean square of the residuals (RMSR) is  0 \n",
       " with the empirical chi square  0  with prob <  NA \n",
       "\n",
       "Fit based upon off diagonal values = 1"
      ]
     },
     "metadata": {},
     "output_type": "display_data"
    }
   ],
   "source": [
    "# Normal PC\n",
    "fit_a = principal(data, nfactors=p, n.obs=nobs, residuals=FALSE, rotate='none', scores=TRUE)\n",
    "fit_a"
   ]
  },
  {
   "cell_type": "code",
   "execution_count": 7,
   "metadata": {},
   "outputs": [
    {
     "name": "stdout",
     "output_type": "stream",
     "text": [
      "Kaiser's criterion, as 3 factors have eigenvalues (SS Loading) > 1\n"
     ]
    }
   ],
   "source": [
    "cat('Kaiser\\'s criterion, as 3 factors have eigenvalues (SS Loading) > 1\\n')"
   ]
  },
  {
   "cell_type": "code",
   "execution_count": 8,
   "metadata": {},
   "outputs": [
    {
     "name": "stdout",
     "output_type": "stream",
     "text": [
      "Cattell's scree test, the curve is flat after 4, 3 factors are suitable\n"
     ]
    },
    {
     "data": {
      "image/png": "[encoded data removed]",
      "text/plain": [
       "plot without title"
      ]
     },
     "metadata": {},
     "output_type": "display_data"
    }
   ],
   "source": [
    "cat('Cattell\\'s scree test, the curve is flat after 4, 3 factors are suitable\\n')\n",
    "plot(eigen(data)$value, type=\"o\", col=\"red\", xlab=\"factors\", ylab=\"eigenvalue\")"
   ]
  },
  {
   "cell_type": "code",
   "execution_count": 9,
   "metadata": {},
   "outputs": [
    {
     "name": "stdout",
     "output_type": "stream",
     "text": [
      "Parallel analysis, the intersection is between 3 and 4, 3 factors are suitable\n"
     ]
    },
    {
     "data": {
      "image/png": "[encoded data removed]",
      "text/plain": [
       "plot without title"
      ]
     },
     "metadata": {},
     "output_type": "display_data"
    }
   ],
   "source": [
    "cat('Parallel analysis, the intersection is between 3 and 4, 3 factors are suitable\\n')\n",
    "plot(eigen(data)$value, type=\"o\", col=\"red\", xlab=\"factors\", ylab=\"eigenvalue\")\n",
    "lines(eigen(cor(matrix(runif(3060,0,1), ncol=12)))$value, col=\"blue\", lty=2)\n",
    "legend(8, 4, legend=c(\"original data\", \"random data\"), col=c(\"red\", \"blue\"), lty=1:2)"
   ]
  },
  {
   "cell_type": "code",
   "execution_count": 10,
   "metadata": {},
   "outputs": [
    {
     "data": {
      "text/plain": [
       "Principal Components Analysis\n",
       "Call: principal(r = data, nfactors = 3, residuals = TRUE, rotate = \"varimax\", \n",
       "    n.obs = nobs, scores = TRUE)\n",
       "Standardized loadings (pattern matrix) based upon correlation matrix\n",
       "    RC2  RC1  RC3   h2   u2 com\n",
       "1  0.23 0.92 0.05 0.90 0.10 1.1\n",
       "2  0.20 0.19 0.85 0.79 0.21 1.2\n",
       "3  0.13 0.73 0.35 0.68 0.32 1.5\n",
       "4  0.08 0.33 0.75 0.68 0.32 1.4\n",
       "5  0.17 0.79 0.25 0.72 0.28 1.3\n",
       "6  0.16 0.16 0.89 0.85 0.15 1.1\n",
       "7  0.34 0.70 0.25 0.66 0.34 1.7\n",
       "8  0.71 0.13 0.05 0.53 0.47 1.1\n",
       "9  0.80 0.11 0.15 0.68 0.32 1.1\n",
       "10 0.82 0.17 0.07 0.71 0.29 1.1\n",
       "11 0.70 0.28 0.12 0.58 0.42 1.4\n",
       "12 0.71 0.15 0.22 0.58 0.42 1.3\n",
       "\n",
       "                       RC2  RC1  RC3\n",
       "SS loadings           3.10 2.83 2.41\n",
       "Proportion Var        0.26 0.24 0.20\n",
       "Cumulative Var        0.26 0.49 0.69\n",
       "Proportion Explained  0.37 0.34 0.29\n",
       "Cumulative Proportion 0.37 0.71 1.00\n",
       "\n",
       "Mean item complexity =  1.3\n",
       "Test of the hypothesis that 3 components are sufficient.\n",
       "\n",
       "The root mean square of the residuals (RMSR) is  0.07 \n",
       " with the empirical chi square  162.15  with prob <  5.7e-19 \n",
       "\n",
       "Fit based upon off diagonal values = 0.97"
      ]
     },
     "metadata": {},
     "output_type": "display_data"
    }
   ],
   "source": [
    "# Varimax PC\n",
    "fit_b = principal(data, nfactors=3, n.obs=nobs, residuals=TRUE, rotate='varimax', scores=TRUE)\n",
    "fit_b"
   ]
  },
  {
   "cell_type": "markdown",
   "metadata": {},
   "source": [
    "# Result\n",
    "RC2 : Dexterity aptitude<br>\n",
    "RC1 : Eye perception aptitude<br>\n",
    "RC3 : General cognitive aptitude<br>"
   ]
  }
 ],
 "metadata": {
  "kernelspec": {
   "display_name": "R",
   "language": "R",
   "name": "ir"
  },
  "language_info": {
   "codemirror_mode": "r",
   "file_extension": ".r",
   "mimetype": "text/x-r-source",
   "name": "R",
   "pygments_lexer": "r",
   "version": "3.4.0"
  }
 },
 "nbformat": 4,
 "nbformat_minor": 2
}
