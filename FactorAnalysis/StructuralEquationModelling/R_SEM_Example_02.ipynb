{
 "cells": [
  {
   "cell_type": "code",
   "execution_count": 1,
   "metadata": {},
   "outputs": [
    {
     "name": "stderr",
     "output_type": "stream",
     "text": [
      "This is lavaan 0.5-23.1097\n",
      "lavaan is BETA software! Please report any bugs.\n"
     ]
    }
   ],
   "source": [
    "library(semPlot)\n",
    "library(lavaan)\n",
    "library(corrplot)"
   ]
  },
  {
   "cell_type": "code",
   "execution_count": 2,
   "metadata": {
    "collapsed": true
   },
   "outputs": [],
   "source": [
    "plot_matrix <- function(matrix_toplot){\n",
    "corrplot(matrix_toplot, is.corr = FALSE, \n",
    "               type = 'lower', \n",
    "               order = \"original\", \n",
    "               tl.col='black', tl.cex=.75)\n",
    "}"
   ]
  },
  {
   "cell_type": "code",
   "execution_count": 3,
   "metadata": {},
   "outputs": [],
   "source": [
    "data = read.csv(\"http://www.stanford.edu/class/psych253/data/jt-data1.csv\")"
   ]
  },
  {
   "cell_type": "code",
   "execution_count": 4,
   "metadata": {},
   "outputs": [],
   "source": [
    "model = '\n",
    "  # regressions \n",
    "    ideahap + actuhap ~ cultatt + temperatt\n",
    "    rigoract + depress ~ ideahap + actuhap + cultatt + temperatt\n",
    "    \n",
    "    # variances and covariances\n",
    "    rigoract ~~ 0*depress\n",
    "'"
   ]
  },
  {
   "cell_type": "code",
   "execution_count": 5,
   "metadata": {},
   "outputs": [],
   "source": [
    "#data = list(as.matrix(chinese), as.matrix(western))\n",
    "#fit = sem(model, sample.cov = data,\n",
    "#                 sample.nobs = list(260,240),\n",
    "#                 sample.mean = list(0,0),\n",
    "#                 group.equal = c(\"loadings\",\"intercepts\"))"
   ]
  },
  {
   "cell_type": "code",
   "execution_count": 6,
   "metadata": {},
   "outputs": [
    {
     "name": "stdout",
     "output_type": "stream",
     "text": [
      "lavaan (0.5-23.1097) converged normally after  62 iterations\n",
      "\n",
      "                                                  Used       Total\n",
      "  Number of observations                           215         239\n",
      "\n",
      "  Estimator                                         ML\n",
      "  Minimum Function Test Statistic                9.547\n",
      "  Degrees of freedom                                 2\n",
      "  P-value (Chi-square)                           0.008\n",
      "\n",
      "Parameter Estimates:\n",
      "\n",
      "  Information                                 Expected\n",
      "  Standard Errors                             Standard\n",
      "\n",
      "Regressions:\n",
      "                   Estimate  Std.Err  z-value  P(>|z|)\n",
      "  ideahap ~                                           \n",
      "    cultatt           0.075    0.022    3.455    0.001\n",
      "    temperatt         0.131    0.031    4.260    0.000\n",
      "  actuhap ~                                           \n",
      "    cultatt           0.111    0.035    3.165    0.002\n",
      "    temperatt         0.354    0.049    7.188    0.000\n",
      "  rigoract ~                                          \n",
      "    ideahap           0.508    0.262    1.939    0.053\n",
      "    actuhap          -0.071    0.163   -0.436    0.663\n",
      "    cultatt          -0.105    0.088   -1.193    0.233\n",
      "    temperatt         0.314    0.136    2.318    0.020\n",
      "  depress ~                                           \n",
      "    ideahap           1.687    1.724    0.979    0.328\n",
      "    actuhap          -1.646    1.073   -1.534    0.125\n",
      "    cultatt           0.401    0.577    0.696    0.487\n",
      "    temperatt        -6.187    0.891   -6.942    0.000\n",
      "\n",
      "Covariances:\n",
      "                   Estimate  Std.Err  z-value  P(>|z|)\n",
      " .rigoract ~~                                         \n",
      "   .depress           0.000                           \n",
      "  cultatt ~~                                          \n",
      "    temperatt         0.280    0.057    4.879    0.000\n",
      "\n",
      "Variances:\n",
      "                   Estimate  Std.Err  z-value  P(>|z|)\n",
      "   .ideahap           0.100    0.010   10.368    0.000\n",
      "   .actuhap           0.257    0.025   10.368    0.000\n",
      "   .rigoract          1.473    0.142   10.368    0.000\n",
      "   .depress          63.595    6.134   10.368    0.000\n",
      "    cultatt           1.118    0.108   10.368    0.000\n",
      "    temperatt         0.563    0.054   10.368    0.000\n",
      "\n"
     ]
    }
   ],
   "source": [
    "fit = sem(model, fixed.x = F, data = data)\n",
    "summary(fit)"
   ]
  },
  {
   "cell_type": "code",
   "execution_count": 7,
   "metadata": {
    "scrolled": false
   },
   "outputs": [
    {
     "name": "stdout",
     "output_type": "stream",
     "text": [
      "lavaan (0.5-23.1097) converged normally after 205 iterations\n",
      "\n",
      "                                                  Used       Total\n",
      "  Number of observations per group         \n",
      "  1                                                 65          75\n",
      "  2                                                 67          80\n",
      "  3                                                 83          84\n",
      "\n",
      "  Estimator                                         ML\n",
      "  Minimum Function Test Statistic               16.648\n",
      "  Degrees of freedom                                 6\n",
      "  P-value (Chi-square)                           0.011\n",
      "\n",
      "Chi-square for each group:\n",
      "\n",
      "  1                                              1.682\n",
      "  2                                             10.479\n",
      "  3                                              4.487\n",
      "\n",
      "Parameter Estimates:\n",
      "\n",
      "  Information                                 Expected\n",
      "  Standard Errors                             Standard\n",
      "\n",
      "\n",
      "Group 1 [1]:\n",
      "\n",
      "Regressions:\n",
      "                   Estimate  Std.Err  z-value  P(>|z|)\n",
      "  ideahap ~                                           \n",
      "    cultatt           0.062    0.037    1.661    0.097\n",
      "    temperatt         0.172    0.066    2.626    0.009\n",
      "  actuhap ~                                           \n",
      "    cultatt           0.005    0.054    0.095    0.925\n",
      "    temperatt         0.574    0.094    6.079    0.000\n",
      "  rigoract ~                                          \n",
      "    ideahap           1.036    0.599    1.728    0.084\n",
      "    actuhap          -1.111    0.416   -2.673    0.008\n",
      "    cultatt          -0.273    0.184   -1.484    0.138\n",
      "    temperatt         0.992    0.410    2.420    0.016\n",
      "  depress ~                                           \n",
      "    ideahap           1.332    3.063    0.435    0.664\n",
      "    actuhap          -0.387    2.123   -0.182    0.855\n",
      "    cultatt           0.198    0.942    0.210    0.834\n",
      "    temperatt        -5.609    2.093   -2.679    0.007\n",
      "\n",
      "Covariances:\n",
      "                   Estimate  Std.Err  z-value  P(>|z|)\n",
      " .rigoract ~~                                         \n",
      "   .depress           0.000                           \n",
      "  cultatt ~~                                          \n",
      "    temperatt         0.138    0.076    1.819    0.069\n",
      "\n",
      "Variances:\n",
      "                   Estimate  Std.Err  z-value  P(>|z|)\n",
      "   .ideahap           0.090    0.016    5.701    0.000\n",
      "   .actuhap           0.187    0.033    5.701    0.000\n",
      "   .rigoract          2.098    0.368    5.701    0.000\n",
      "   .depress          54.770    9.607    5.701    0.000\n",
      "    cultatt           1.047    0.184    5.701    0.000\n",
      "    temperatt         0.340    0.060    5.701    0.000\n",
      "\n",
      "\n",
      "Group 2 [2]:\n",
      "\n",
      "Regressions:\n",
      "                   Estimate  Std.Err  z-value  P(>|z|)\n",
      "  ideahap ~                                           \n",
      "    cultatt           0.007    0.028    0.245    0.806\n",
      "    temperatt         0.130    0.041    3.205    0.001\n",
      "  actuhap ~                                           \n",
      "    cultatt           0.121    0.059    2.041    0.041\n",
      "    temperatt         0.454    0.085    5.327    0.000\n",
      "  rigoract ~                                          \n",
      "    ideahap           0.393    0.553    0.710    0.478\n",
      "    actuhap           0.281    0.263    1.068    0.285\n",
      "    cultatt          -0.118    0.132   -0.892    0.372\n",
      "    temperatt        -0.044    0.231   -0.192    0.848\n",
      "  depress ~                                           \n",
      "    ideahap          -0.948    4.532   -0.209    0.834\n",
      "    actuhap          -4.307    2.158   -1.996    0.046\n",
      "    cultatt          -0.107    1.080   -0.099    0.921\n",
      "    temperatt        -4.470    1.890   -2.364    0.018\n",
      "\n",
      "Covariances:\n",
      "                   Estimate  Std.Err  z-value  P(>|z|)\n",
      " .rigoract ~~                                         \n",
      "   .depress           0.000                           \n",
      "  cultatt ~~                                          \n",
      "    temperatt         0.265    0.096    2.766    0.006\n",
      "\n",
      "Variances:\n",
      "                   Estimate  Std.Err  z-value  P(>|z|)\n",
      "   .ideahap           0.049    0.009    5.788    0.000\n",
      "   .actuhap           0.218    0.038    5.788    0.000\n",
      "   .rigoract          1.013    0.175    5.788    0.000\n",
      "   .depress          68.043   11.756    5.788    0.000\n",
      "    cultatt           1.063    0.184    5.788    0.000\n",
      "    temperatt         0.514    0.089    5.788    0.000\n",
      "\n",
      "\n",
      "Group 3 [3]:\n",
      "\n",
      "Regressions:\n",
      "                   Estimate  Std.Err  z-value  P(>|z|)\n",
      "  ideahap ~                                           \n",
      "    cultatt           0.093    0.044    2.122    0.034\n",
      "    temperatt         0.061    0.053    1.152    0.250\n",
      "  actuhap ~                                           \n",
      "    cultatt           0.198    0.068    2.904    0.004\n",
      "    temperatt         0.204    0.082    2.479    0.013\n",
      "  rigoract ~                                          \n",
      "    ideahap           0.045    0.321    0.140    0.888\n",
      "    actuhap           0.255    0.206    1.238    0.216\n",
      "    cultatt          -0.073    0.138   -0.533    0.594\n",
      "    temperatt         0.257    0.162    1.587    0.112\n",
      "  depress ~                                           \n",
      "    ideahap           0.945    2.427    0.389    0.697\n",
      "    actuhap          -0.661    1.560   -0.424    0.672\n",
      "    cultatt           0.892    1.043    0.856    0.392\n",
      "    temperatt        -7.225    1.224   -5.903    0.000\n",
      "\n",
      "Covariances:\n",
      "                   Estimate  Std.Err  z-value  P(>|z|)\n",
      " .rigoract ~~                                         \n",
      "   .depress           0.000                           \n",
      "  cultatt ~~                                          \n",
      "    temperatt         0.092    0.073    1.252    0.211\n",
      "\n",
      "Variances:\n",
      "                   Estimate  Std.Err  z-value  P(>|z|)\n",
      "   .ideahap           0.125    0.019    6.442    0.000\n",
      "   .actuhap           0.303    0.047    6.442    0.000\n",
      "   .rigoract          1.068    0.166    6.442    0.000\n",
      "   .depress          61.195    9.499    6.442    0.000\n",
      "    cultatt           0.799    0.124    6.442    0.000\n",
      "    temperatt         0.547    0.085    6.442    0.000\n",
      "\n"
     ]
    }
   ],
   "source": [
    "group = sem(model, fixed.x = F, data = data, group = \"group\", meanstructure = F)\n",
    "summary(group)"
   ]
  },
  {
   "cell_type": "code",
   "execution_count": 8,
   "metadata": {},
   "outputs": [],
   "source": [
    "# Compare Models\n",
    "# anova(group1, group2)"
   ]
  }
 ],
 "metadata": {
  "kernelspec": {
   "display_name": "R",
   "language": "R",
   "name": "ir"
  },
  "language_info": {
   "codemirror_mode": "r",
   "file_extension": ".r",
   "mimetype": "text/x-r-source",
   "name": "R",
   "pygments_lexer": "r",
   "version": "3.4.0"
  }
 },
 "nbformat": 4,
 "nbformat_minor": 2
}
