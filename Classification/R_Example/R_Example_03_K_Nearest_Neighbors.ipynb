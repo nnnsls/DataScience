{
 "cells": [
  {
   "cell_type": "markdown",
   "metadata": {},
   "source": [
    "The data shows the information of American colleges and universities in 1995, the detail as below. And we would like to classify good colleges and universities. <br>\n",
    "[ACollege1995R.csv] Columns:<br>\n",
    "app - No. of applicants received<br>\n",
    "acc - No. of applicants accepted<br>\n",
    "enrol - No. of new students enrolled<br>\n",
    "ftime - No. of full-time undergraduates<br>\n",
    "ptime - No. of part-time undergraduate<br>\n",
    "instate - In-state tuition<br>\n",
    "outstate - Out-state tuition<br>\n",
    "rbcost - Room and board cost<br>\n",
    "bkcost - Estimated book cost<br>\n",
    "phd - % of faculty with Ph.D.<br>\n",
    "sfratio - Student/faculty ratio<br>\n",
    "expend - Instructional expenditure per student<br>\n",
    "grad - Graduation rate<br>\n",
    "good - With 30%+ new students from top 10% high school class."
   ]
  },
  {
   "cell_type": "code",
   "execution_count": 1,
   "metadata": {
    "collapsed": true
   },
   "outputs": [],
   "source": [
    "library(class)\n",
    "set.seed(852)\n",
    "data = read.csv('../ACollege1995R.csv')"
   ]
  },
  {
   "cell_type": "code",
   "execution_count": 2,
   "metadata": {
    "collapsed": true
   },
   "outputs": [],
   "source": [
    "k_nn<-function(x0,x1,cl0,cl1,v,l=0,prob=F,use.all=T) {\n",
    "  err0=1\n",
    "  if (length(v)==1) v<-c(1:v)\n",
    "\n",
    "  for (k in v) {\n",
    "    res<-knn(x0,x1,cl0,k,l,prob,use.all)\n",
    "    ctab<-table(res,cl1)\n",
    "    err<-1-sum(diag(ctab))/sum(ctab)\n",
    "    if (err<err0) {\n",
    "      k0<-k\n",
    "      res0<-res\n",
    "      err0<-err\n",
    "      ctab0<-ctab\n",
    "    }\n",
    "    cat(\"k=\",k,\" error rate=\",err,\"\\n\")\n",
    "  }  \n",
    "  cat(\"best k=\",k0,\" error rate=\",err0,\"\\n\")\n",
    "  res0\n",
    "}"
   ]
  },
  {
   "cell_type": "code",
   "execution_count": 3,
   "metadata": {
    "collapsed": true
   },
   "outputs": [],
   "source": [
    "TnE_test = function(test_y, model) {\n",
    "    test_table = table(model, test_y)\n",
    "    error1 = (test_table[2] + test_table[3]) / sum(test_table)\n",
    "    print(test_table)\n",
    "    cat('The error is',error1,'\\n')\n",
    "}"
   ]
  },
  {
   "cell_type": "code",
   "execution_count": 4,
   "metadata": {
    "collapsed": true
   },
   "outputs": [],
   "source": [
    "stand<-function(x) {\n",
    "   n<-dim(x)[1]\n",
    "   p<-dim(x)[2]\n",
    "   m<-apply(x,2,mean)\n",
    "   s<-apply(x,2,sd)\n",
    "   m<-matrix(m,nr=n,nc=p,byrow=T)\n",
    "   s<-matrix(s,nr=n,nc=p,byrow=T)\n",
    "   (x-m)/s\n",
    "}"
   ]
  },
  {
   "cell_type": "code",
   "execution_count": 5,
   "metadata": {
    "collapsed": true
   },
   "outputs": [],
   "source": [
    "id = sample(1:dim(data)[1], size=dim(data)[1]*0.7,replace=F)\n",
    "train = data[id,]\n",
    "test = data[-id,]"
   ]
  },
  {
   "cell_type": "code",
   "execution_count": 6,
   "metadata": {
    "collapsed": false
   },
   "outputs": [
    {
     "name": "stdout",
     "output_type": "stream",
     "text": [
      "k= 1  error rate= 0.2276423 \n",
      "k= 2  error rate= 0.2073171 \n",
      "k= 3  error rate= 0.1626016 \n",
      "k= 4  error rate= 0.1707317 \n",
      "k= 5  error rate= 0.1544715 \n",
      "k= 6  error rate= 0.1585366 \n",
      "k= 7  error rate= 0.1544715 \n",
      "k= 8  error rate= 0.1504065 \n",
      "k= 9  error rate= 0.1463415 \n",
      "k= 10  error rate= 0.1422764 \n",
      "k= 11  error rate= 0.1382114 \n",
      "k= 12  error rate= 0.1382114 \n",
      "k= 13  error rate= 0.1422764 \n",
      "k= 14  error rate= 0.1666667 \n",
      "k= 15  error rate= 0.1585366 \n",
      "k= 16  error rate= 0.1544715 \n",
      "k= 17  error rate= 0.1585366 \n",
      "k= 18  error rate= 0.1666667 \n",
      "k= 19  error rate= 0.1626016 \n",
      "k= 20  error rate= 0.1747967 \n",
      "best k= 11  error rate= 0.1382114 \n"
     ]
    }
   ],
   "source": [
    "col.knn = k_nn(train[,1:13], test[,1:13], train$good, test$good, 20)"
   ]
  },
  {
   "cell_type": "code",
   "execution_count": 7,
   "metadata": {
    "collapsed": false
   },
   "outputs": [
    {
     "name": "stdout",
     "output_type": "stream",
     "text": [
      "     test_y\n",
      "model   0   1\n",
      "    0 167  27\n",
      "    1   7  45\n",
      "The error is 0.1382114 \n"
     ]
    }
   ],
   "source": [
    "TnE_test(test$good, col.knn)"
   ]
  },
  {
   "cell_type": "markdown",
   "metadata": {},
   "source": [
    "# Improvement\n",
    "The knn model would be improved by standardize transformation as distance based model. "
   ]
  },
  {
   "cell_type": "code",
   "execution_count": 8,
   "metadata": {
    "collapsed": true
   },
   "outputs": [],
   "source": [
    "sdata = stand(data[1:13])\n",
    "strain = sdata[id,]\n",
    "stest = sdata[-id,]"
   ]
  },
  {
   "cell_type": "code",
   "execution_count": 9,
   "metadata": {
    "collapsed": false
   },
   "outputs": [
    {
     "name": "stdout",
     "output_type": "stream",
     "text": [
      "k= 1  error rate= 0.199187 \n",
      "k= 2  error rate= 0.2195122 \n",
      "k= 3  error rate= 0.1463415 \n",
      "k= 4  error rate= 0.1869919 \n",
      "k= 5  error rate= 0.1747967 \n",
      "k= 6  error rate= 0.1585366 \n",
      "k= 7  error rate= 0.1585366 \n",
      "k= 8  error rate= 0.1463415 \n",
      "k= 9  error rate= 0.1219512 \n",
      "k= 10  error rate= 0.1463415 \n",
      "k= 11  error rate= 0.1300813 \n",
      "k= 12  error rate= 0.1382114 \n",
      "k= 13  error rate= 0.1382114 \n",
      "k= 14  error rate= 0.1422764 \n",
      "k= 15  error rate= 0.1544715 \n",
      "k= 16  error rate= 0.1666667 \n",
      "k= 17  error rate= 0.1626016 \n",
      "k= 18  error rate= 0.1666667 \n",
      "k= 19  error rate= 0.1585366 \n",
      "k= 20  error rate= 0.1463415 \n",
      "best k= 9  error rate= 0.1219512 \n"
     ]
    }
   ],
   "source": [
    "s_col.knn = k_nn(strain, stest, train$good, test$good, 20)"
   ]
  },
  {
   "cell_type": "code",
   "execution_count": 10,
   "metadata": {
    "collapsed": false
   },
   "outputs": [
    {
     "name": "stdout",
     "output_type": "stream",
     "text": [
      "     test_y\n",
      "model   0   1\n",
      "    0 169  25\n",
      "    1   5  47\n",
      "The error is 0.1219512 \n"
     ]
    }
   ],
   "source": [
    "TnE_test(test$good, s_col.knn)"
   ]
  }
 ],
 "metadata": {
  "kernelspec": {
   "display_name": "R",
   "language": "R",
   "name": "ir"
  },
  "language_info": {
   "codemirror_mode": "r",
   "file_extension": ".r",
   "mimetype": "text/x-r-source",
   "name": "R",
   "pygments_lexer": "r",
   "version": "3.3.2"
  }
 },
 "nbformat": 4,
 "nbformat_minor": 2
}
