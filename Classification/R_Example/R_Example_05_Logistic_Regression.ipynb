{
 "cells": [
  {
   "cell_type": "markdown",
   "metadata": {},
   "source": [
    "The data shows the information of American colleges and universities in 1995, the detail as below. And we would like to classify good colleges and universities. <br>\n",
    "[ACollege1995R.csv] Columns:<br>\n",
    "app - No. of applicants received<br>\n",
    "acc - No. of applicants accepted<br>\n",
    "enrol - No. of new students enrolled<br>\n",
    "ftime - No. of full-time undergraduates<br>\n",
    "ptime - No. of part-time undergraduate<br>\n",
    "instate - In-state tuition<br>\n",
    "outstate - Out-state tuition<br>\n",
    "rbcost - Room and board cost<br>\n",
    "bkcost - Estimated book cost<br>\n",
    "phd - % of faculty with Ph.D.<br>\n",
    "sfratio - Student/faculty ratio<br>\n",
    "expend - Instructional expenditure per student<br>\n",
    "grad - Graduation rate<br>\n",
    "good - With 30%+ new students from top 10% high school class."
   ]
  },
  {
   "cell_type": "code",
   "execution_count": 1,
   "metadata": {
    "collapsed": true
   },
   "outputs": [],
   "source": [
    "set.seed(852)\n",
    "data = read.csv('../ACollege1995R.csv')"
   ]
  },
  {
   "cell_type": "code",
   "execution_count": 2,
   "metadata": {
    "collapsed": true
   },
   "outputs": [],
   "source": [
    "TnE_lr = function(train_y, test_x, test_y, model) {\n",
    "    train_cl = model$fit > 0.5\n",
    "    train_table = table(train_cl, train_y)\n",
    "    error0 = (train_table[2] + train_table[3]) / sum(train_table)\n",
    "    test_pr = predict(model, test_x)\n",
    "    test_cl = exp(test_pr)/(1+exp(test_pr)) > 0.5\n",
    "    test_table = table(test_cl, test_y)\n",
    "    error1 = (test_table[2] + test_table[3]) / sum(test_table)\n",
    "    print(train_table)\n",
    "    cat('Training error is',error0,'\\n\\n')\n",
    "    print(test_table)\n",
    "    cat('Testing error is',error1,'\\n')\n",
    "}"
   ]
  },
  {
   "cell_type": "code",
   "execution_count": 3,
   "metadata": {
    "collapsed": true
   },
   "outputs": [],
   "source": [
    "id = sample(1:dim(data)[1], size=dim(data)[1]*0.7,replace=F)\n",
    "train = data[id,]\n",
    "test = data[-id,]"
   ]
  },
  {
   "cell_type": "code",
   "execution_count": 4,
   "metadata": {
    "collapsed": false
   },
   "outputs": [
    {
     "data": {
      "text/plain": [
       "\n",
       "Call:\n",
       "glm(formula = good ~ ., family = binomial, data = train)\n",
       "\n",
       "Deviance Residuals: \n",
       "    Min       1Q   Median       3Q      Max  \n",
       "-1.9369  -0.5750  -0.2901   0.0637   3.4441  \n",
       "\n",
       "Coefficients:\n",
       "              Estimate Std. Error z value Pr(>|z|)    \n",
       "(Intercept) -8.434e+00  1.504e+00  -5.608 2.04e-08 ***\n",
       "app          4.356e-04  2.290e-04   1.902 0.057136 .  \n",
       "acc         -9.475e-04  4.299e-04  -2.204 0.027501 *  \n",
       "enrol        1.870e-03  1.078e-03   1.735 0.082766 .  \n",
       "ftime        1.621e-05  1.837e-04   0.088 0.929718    \n",
       "ptime       -1.096e-03  3.139e-04  -3.492 0.000480 ***\n",
       "instate      1.445e-04  1.144e-04   1.263 0.206490    \n",
       "outstate    -1.811e-04  1.422e-04  -1.273 0.202882    \n",
       "rbcost      -4.168e-04  1.710e-04  -2.438 0.014760 *  \n",
       "bkcost       2.404e-03  1.018e-03   2.362 0.018194 *  \n",
       "phd          5.668e-02  1.301e-02   4.355 1.33e-05 ***\n",
       "sfratio     -5.454e-02  5.831e-02  -0.935 0.349542    \n",
       "expend       3.249e-04  8.926e-05   3.639 0.000273 ***\n",
       "grad         2.975e-02  1.054e-02   2.822 0.004768 ** \n",
       "---\n",
       "Signif. codes:  0 ‘***’ 0.001 ‘**’ 0.01 ‘*’ 0.05 ‘.’ 0.1 ‘ ’ 1\n",
       "\n",
       "(Dispersion parameter for binomial family taken to be 1)\n",
       "\n",
       "    Null deviance: 668.99  on 572  degrees of freedom\n",
       "Residual deviance: 399.14  on 559  degrees of freedom\n",
       "AIC: 427.14\n",
       "\n",
       "Number of Fisher Scoring iterations: 6\n"
      ]
     },
     "metadata": {},
     "output_type": "display_data"
    }
   ],
   "source": [
    "summary(glm(good~.,data=train,binomial))"
   ]
  },
  {
   "cell_type": "code",
   "execution_count": 5,
   "metadata": {
    "collapsed": false
   },
   "outputs": [
    {
     "data": {
      "text/plain": [
       "\n",
       "Call:\n",
       "glm(formula = good ~ ftime + ptime + rbcost + bkcost + phd + \n",
       "    expend + grad, family = binomial, data = train)\n",
       "\n",
       "Deviance Residuals: \n",
       "    Min       1Q   Median       3Q      Max  \n",
       "-1.9827  -0.5607  -0.3111   0.1023   3.2590  \n",
       "\n",
       "Coefficients:\n",
       "              Estimate Std. Error z value Pr(>|z|)    \n",
       "(Intercept) -9.079e+00  1.047e+00  -8.674  < 2e-16 ***\n",
       "ftime        1.715e-04  5.665e-05   3.028 0.002463 ** \n",
       "ptime       -1.075e-03  2.882e-04  -3.731 0.000191 ***\n",
       "rbcost      -4.614e-04  1.571e-04  -2.937 0.003314 ** \n",
       "bkcost       2.423e-03  9.804e-04   2.472 0.013448 *  \n",
       "phd          4.671e-02  1.182e-02   3.950 7.81e-05 ***\n",
       "expend       3.591e-04  5.963e-05   6.022 1.73e-09 ***\n",
       "grad         3.197e-02  9.547e-03   3.349 0.000811 ***\n",
       "---\n",
       "Signif. codes:  0 ‘***’ 0.001 ‘**’ 0.01 ‘*’ 0.05 ‘.’ 0.1 ‘ ’ 1\n",
       "\n",
       "(Dispersion parameter for binomial family taken to be 1)\n",
       "\n",
       "    Null deviance: 668.99  on 572  degrees of freedom\n",
       "Residual deviance: 408.77  on 565  degrees of freedom\n",
       "AIC: 424.77\n",
       "\n",
       "Number of Fisher Scoring iterations: 6\n"
      ]
     },
     "metadata": {},
     "output_type": "display_data"
    }
   ],
   "source": [
    "lreg = glm(good~ftime+ptime+rbcost+bkcost+phd+expend+grad,data=train,binomial)\n",
    "summary(lreg)"
   ]
  },
  {
   "cell_type": "code",
   "execution_count": 6,
   "metadata": {
    "collapsed": false
   },
   "outputs": [
    {
     "name": "stdout",
     "output_type": "stream",
     "text": [
      "        train_y\n",
      "train_cl   0   1\n",
      "   FALSE 393  67\n",
      "   TRUE   25  88\n",
      "Training error is 0.1605585 \n",
      "\n",
      "       test_y\n",
      "test_cl   0   1\n",
      "  FALSE 165  22\n",
      "  TRUE    9  50\n",
      "Testing error is 0.1260163 \n"
     ]
    }
   ],
   "source": [
    "TnE_lr(train$good, test[,1:13], test$good, lreg)"
   ]
  },
  {
   "cell_type": "markdown",
   "metadata": {},
   "source": [
    "# Improvement\n",
    "Same as models before, logistic regression would be improved by transformations, the script below shows the improvement after log transormation."
   ]
  },
  {
   "cell_type": "code",
   "execution_count": 7,
   "metadata": {
    "collapsed": false
   },
   "outputs": [
    {
     "name": "stdout",
     "output_type": "stream",
     "text": [
      "Look better now!"
     ]
    },
    {
     "data": {
      "image/png": "[encoded data removed]",
      "text/plain": [
       "Plot with title “grad”"
      ]
     },
     "metadata": {},
     "output_type": "display_data"
    }
   ],
   "source": [
    "ldata = data\n",
    "for (i in c(1:5, 12)) {\n",
    "    ldata[i] = log(data[i])\n",
    "}\n",
    "hist_z = as.matrix(ldata[1:13])\n",
    "par(mfrow=c(4,4))\n",
    "for (i in 1:13) hist(hist_z[,i], xlab=i, main=colnames(hist_z)[i])\n",
    "cat('Look better now!')"
   ]
  },
  {
   "cell_type": "code",
   "execution_count": 8,
   "metadata": {
    "collapsed": true
   },
   "outputs": [],
   "source": [
    "ltrain = ldata[id,]\n",
    "ltest = ldata[-id,]"
   ]
  },
  {
   "cell_type": "code",
   "execution_count": 9,
   "metadata": {
    "collapsed": false
   },
   "outputs": [
    {
     "data": {
      "text/plain": [
       "\n",
       "Call:\n",
       "glm(formula = good ~ ftime + ptime + rbcost + bkcost + phd + \n",
       "    expend + grad, family = binomial, data = ltrain)\n",
       "\n",
       "Deviance Residuals: \n",
       "    Min       1Q   Median       3Q      Max  \n",
       "-2.6158  -0.5494  -0.2971   0.1517   2.7754  \n",
       "\n",
       "Coefficients:\n",
       "              Estimate Std. Error z value Pr(>|z|)    \n",
       "(Intercept) -3.453e+01  5.110e+00  -6.757 1.41e-11 ***\n",
       "ftime        5.326e-01  1.944e-01   2.739 0.006166 ** \n",
       "ptime       -4.889e-01  1.199e-01  -4.079 4.52e-05 ***\n",
       "rbcost      -4.009e-04  1.566e-04  -2.560 0.010479 *  \n",
       "bkcost       2.452e-03  9.861e-04   2.487 0.012884 *  \n",
       "phd          4.144e-02  1.247e-02   3.323 0.000892 ***\n",
       "expend       3.004e+00  5.821e-01   5.161 2.46e-07 ***\n",
       "grad         3.402e-02  9.283e-03   3.665 0.000248 ***\n",
       "---\n",
       "Signif. codes:  0 ‘***’ 0.001 ‘**’ 0.01 ‘*’ 0.05 ‘.’ 0.1 ‘ ’ 1\n",
       "\n",
       "(Dispersion parameter for binomial family taken to be 1)\n",
       "\n",
       "    Null deviance: 668.99  on 572  degrees of freedom\n",
       "Residual deviance: 412.86  on 565  degrees of freedom\n",
       "AIC: 428.86\n",
       "\n",
       "Number of Fisher Scoring iterations: 6\n"
      ]
     },
     "metadata": {},
     "output_type": "display_data"
    }
   ],
   "source": [
    "llreg = glm(good~ftime+ptime+rbcost+bkcost+phd+expend+grad,data=ltrain,binomial)\n",
    "summary(llreg)"
   ]
  },
  {
   "cell_type": "code",
   "execution_count": 10,
   "metadata": {
    "collapsed": false
   },
   "outputs": [
    {
     "name": "stdout",
     "output_type": "stream",
     "text": [
      "        train_y\n",
      "train_cl   0   1\n",
      "   FALSE 392  60\n",
      "   TRUE   26  95\n",
      "Training error is 0.1500873 \n",
      "\n",
      "       test_y\n",
      "test_cl   0   1\n",
      "  FALSE 166  21\n",
      "  TRUE    8  51\n",
      "Testing error is 0.1178862 \n"
     ]
    }
   ],
   "source": [
    "TnE_lr(ltrain$good, ltest[,1:13], ltest$good, llreg)"
   ]
  }
 ],
 "metadata": {
  "kernelspec": {
   "display_name": "R",
   "language": "R",
   "name": "ir"
  },
  "language_info": {
   "codemirror_mode": "r",
   "file_extension": ".r",
   "mimetype": "text/x-r-source",
   "name": "R",
   "pygments_lexer": "r",
   "version": "3.3.2"
  }
 },
 "nbformat": 4,
 "nbformat_minor": 2
}
