{
 "cells": [
  {
   "cell_type": "markdown",
   "metadata": {},
   "source": [
    "The data shows the information of American colleges and universities in 1995, the detail as below. And we would like to classify good colleges and universities. "
   ]
  },
  {
   "cell_type": "markdown",
   "metadata": {},
   "source": [
    "[ACollege1995.csv] Columns:<br>\n",
    "app - No. of applicants received<br>\n",
    "acc - No. of applicants accepted<br>\n",
    "enrol - No. of new students enrolled<br>\n",
    "ftime - No. of full-time undergraduates<br>\n",
    "ptime - No. of part-time undergraduate<br>\n",
    "instate - In-state tuition<br>\n",
    "outstate - Out-state tuition<br>\n",
    "rbcost - Room and board cost<br>\n",
    "bkcost - Estimated book cost<br>\n",
    "phd - % of faculty with Ph.D.<br>\n",
    "sfratio - Student/faculty ratio<br>\n",
    "expend - Instructional expenditure per student<br>\n",
    "grad - Graduation rate<br>\n",
    "top10 - % new students from top 10% of high school class"
   ]
  },
  {
   "cell_type": "code",
   "execution_count": 1,
   "metadata": {
    "collapsed": false
   },
   "outputs": [],
   "source": [
    "data = read.csv('../ACollege1995.csv')"
   ]
  },
  {
   "cell_type": "code",
   "execution_count": 2,
   "metadata": {
    "collapsed": false
   },
   "outputs": [
    {
     "data": {
      "text/html": [
       "<table>\n",
       "<thead><tr><th scope=col>app</th><th scope=col>acc</th><th scope=col>enrol</th><th scope=col>ftime</th><th scope=col>ptime</th><th scope=col>instate</th><th scope=col>outstate</th><th scope=col>rbcost</th><th scope=col>bkcost</th><th scope=col>phd</th><th scope=col>sfratio</th><th scope=col>expend</th><th scope=col>grad</th><th scope=col>top10</th></tr></thead>\n",
       "<tbody>\n",
       "\t<tr><td> 193 </td><td> 146 </td><td>  55 </td><td> 249 </td><td>  869</td><td>7560 </td><td>7560 </td><td>4120 </td><td>800  </td><td>76   </td><td>11.9 </td><td>10922</td><td>15   </td><td>16   </td></tr>\n",
       "\t<tr><td>1852 </td><td>1427 </td><td> 928 </td><td>3885 </td><td> 4519</td><td>1742 </td><td>5226 </td><td>3590 </td><td>650  </td><td>67   </td><td>10.0 </td><td>11935</td><td>NA   </td><td>NA   </td></tr>\n",
       "\t<tr><td> 146 </td><td> 117 </td><td>  89 </td><td> 492 </td><td> 1849</td><td>1742 </td><td>5226 </td><td>4764 </td><td>500  </td><td>39   </td><td> 9.5 </td><td> 9584</td><td>39   </td><td> 4   </td></tr>\n",
       "\t<tr><td>2065 </td><td>1598 </td><td>1162 </td><td>6209 </td><td>10537</td><td>1742 </td><td>5226 </td><td>5120 </td><td>580  </td><td>48   </td><td>13.7 </td><td> 8046</td><td>NA   </td><td>NA   </td></tr>\n",
       "\t<tr><td>2817 </td><td>1920 </td><td> 984 </td><td>3958 </td><td>  305</td><td>1700 </td><td>3400 </td><td>2550 </td><td>500  </td><td>53   </td><td>14.3 </td><td> 7043</td><td>40   </td><td>NA   </td></tr>\n",
       "\t<tr><td> 345 </td><td> 320 </td><td> 179 </td><td>1367 </td><td>  578</td><td>5600 </td><td>5600 </td><td>3250 </td><td>350  </td><td>52   </td><td>32.8 </td><td> 3971</td><td>55   </td><td>NA   </td></tr>\n",
       "</tbody>\n",
       "</table>\n"
      ],
      "text/latex": [
       "\\begin{tabular}{r|llllllllllllll}\n",
       " app & acc & enrol & ftime & ptime & instate & outstate & rbcost & bkcost & phd & sfratio & expend & grad & top10\\\\\n",
       "\\hline\n",
       "\t  193  &  146  &   55  &  249  &   869 & 7560  & 7560  & 4120  & 800   & 76    & 11.9  & 10922 & 15    & 16   \\\\\n",
       "\t 1852  & 1427  &  928  & 3885  &  4519 & 1742  & 5226  & 3590  & 650   & 67    & 10.0  & 11935 & NA    & NA   \\\\\n",
       "\t  146  &  117  &   89  &  492  &  1849 & 1742  & 5226  & 4764  & 500   & 39    &  9.5  &  9584 & 39    &  4   \\\\\n",
       "\t 2065  & 1598  & 1162  & 6209  & 10537 & 1742  & 5226  & 5120  & 580   & 48    & 13.7  &  8046 & NA    & NA   \\\\\n",
       "\t 2817  & 1920  &  984  & 3958  &   305 & 1700  & 3400  & 2550  & 500   & 53    & 14.3  &  7043 & 40    & NA   \\\\\n",
       "\t  345  &  320  &  179  & 1367  &   578 & 5600  & 5600  & 3250  & 350   & 52    & 32.8  &  3971 & 55    & NA   \\\\\n",
       "\\end{tabular}\n"
      ],
      "text/markdown": [
       "\n",
       "app | acc | enrol | ftime | ptime | instate | outstate | rbcost | bkcost | phd | sfratio | expend | grad | top10 | \n",
       "|---|---|---|---|---|---|\n",
       "|  193  |  146  |   55  |  249  |   869 | 7560  | 7560  | 4120  | 800   | 76    | 11.9  | 10922 | 15    | 16    | \n",
       "| 1852  | 1427  |  928  | 3885  |  4519 | 1742  | 5226  | 3590  | 650   | 67    | 10.0  | 11935 | NA    | NA    | \n",
       "|  146  |  117  |   89  |  492  |  1849 | 1742  | 5226  | 4764  | 500   | 39    |  9.5  |  9584 | 39    |  4    | \n",
       "| 2065  | 1598  | 1162  | 6209  | 10537 | 1742  | 5226  | 5120  | 580   | 48    | 13.7  |  8046 | NA    | NA    | \n",
       "| 2817  | 1920  |  984  | 3958  |   305 | 1700  | 3400  | 2550  | 500   | 53    | 14.3  |  7043 | 40    | NA    | \n",
       "|  345  |  320  |  179  | 1367  |   578 | 5600  | 5600  | 3250  | 350   | 52    | 32.8  |  3971 | 55    | NA    | \n",
       "\n",
       "\n"
      ],
      "text/plain": [
       "  app  acc  enrol ftime ptime instate outstate rbcost bkcost phd sfratio expend\n",
       "1  193  146   55   249    869 7560    7560     4120   800    76  11.9    10922 \n",
       "2 1852 1427  928  3885   4519 1742    5226     3590   650    67  10.0    11935 \n",
       "3  146  117   89   492   1849 1742    5226     4764   500    39   9.5     9584 \n",
       "4 2065 1598 1162  6209  10537 1742    5226     5120   580    48  13.7     8046 \n",
       "5 2817 1920  984  3958    305 1700    3400     2550   500    53  14.3     7043 \n",
       "6  345  320  179  1367    578 5600    5600     3250   350    52  32.8     3971 \n",
       "  grad top10\n",
       "1 15   16   \n",
       "2 NA   NA   \n",
       "3 39    4   \n",
       "4 NA   NA   \n",
       "5 40   NA   \n",
       "6 55   NA   "
      ]
     },
     "metadata": {},
     "output_type": "display_data"
    }
   ],
   "source": [
    "head(data)"
   ]
  },
  {
   "cell_type": "code",
   "execution_count": 3,
   "metadata": {
    "collapsed": false
   },
   "outputs": [],
   "source": [
    "# Remove Null\n",
    "data = data[complete.cases(data),]"
   ]
  },
  {
   "cell_type": "code",
   "execution_count": 4,
   "metadata": {
    "collapsed": false
   },
   "outputs": [
    {
     "data": {
      "text/html": [
       "<table>\n",
       "<thead><tr><th></th><th scope=col>app</th><th scope=col>acc</th><th scope=col>enrol</th><th scope=col>ftime</th><th scope=col>ptime</th><th scope=col>instate</th><th scope=col>outstate</th><th scope=col>rbcost</th><th scope=col>bkcost</th><th scope=col>phd</th><th scope=col>sfratio</th><th scope=col>expend</th><th scope=col>grad</th><th scope=col>top10</th></tr></thead>\n",
       "<tbody>\n",
       "\t<tr><th scope=row>1</th><td> 193 </td><td> 146 </td><td>  55 </td><td>  249</td><td> 869 </td><td> 7560</td><td> 7560</td><td>4120 </td><td>800  </td><td>76   </td><td>11.9 </td><td>10922</td><td>15   </td><td>16   </td></tr>\n",
       "\t<tr><th scope=row>3</th><td> 146 </td><td> 117 </td><td>  89 </td><td>  492</td><td>1849 </td><td> 1742</td><td> 5226</td><td>4764 </td><td>500  </td><td>39   </td><td> 9.5 </td><td> 9584</td><td>39   </td><td> 4   </td></tr>\n",
       "\t<tr><th scope=row>7</th><td>1351 </td><td> 892 </td><td> 570 </td><td> 2385</td><td> 331 </td><td> 2220</td><td> 4440</td><td>3030 </td><td>300  </td><td>72   </td><td>18.9 </td><td> 5883</td><td>51   </td><td>18   </td></tr>\n",
       "\t<tr><th scope=row>9</th><td>7548 </td><td>6791 </td><td>3070 </td><td>16262</td><td>1716 </td><td> 2100</td><td> 6300</td><td>3933 </td><td>600  </td><td>85   </td><td>16.7 </td><td> 6642</td><td>69   </td><td>25   </td></tr>\n",
       "\t<tr><th scope=row>10</th><td> 805 </td><td> 588 </td><td> 287 </td><td> 1376</td><td> 207 </td><td>11660</td><td>11660</td><td>4325 </td><td>400  </td><td>74   </td><td>14.0 </td><td> 8649</td><td>72   </td><td>67   </td></tr>\n",
       "\t<tr><th scope=row>12</th><td> 608 </td><td> 520 </td><td> 127 </td><td>  538</td><td> 126 </td><td> 8080</td><td> 8080</td><td>3920 </td><td>500  </td><td>63   </td><td>11.4 </td><td> 7703</td><td>44   </td><td>26   </td></tr>\n",
       "</tbody>\n",
       "</table>\n"
      ],
      "text/latex": [
       "\\begin{tabular}{r|llllllllllllll}\n",
       "  & app & acc & enrol & ftime & ptime & instate & outstate & rbcost & bkcost & phd & sfratio & expend & grad & top10\\\\\n",
       "\\hline\n",
       "\t1 &  193  &  146  &   55  &   249 &  869  &  7560 &  7560 & 4120  & 800   & 76    & 11.9  & 10922 & 15    & 16   \\\\\n",
       "\t3 &  146  &  117  &   89  &   492 & 1849  &  1742 &  5226 & 4764  & 500   & 39    &  9.5  &  9584 & 39    &  4   \\\\\n",
       "\t7 & 1351  &  892  &  570  &  2385 &  331  &  2220 &  4440 & 3030  & 300   & 72    & 18.9  &  5883 & 51    & 18   \\\\\n",
       "\t9 & 7548  & 6791  & 3070  & 16262 & 1716  &  2100 &  6300 & 3933  & 600   & 85    & 16.7  &  6642 & 69    & 25   \\\\\n",
       "\t10 &  805  &  588  &  287  &  1376 &  207  & 11660 & 11660 & 4325  & 400   & 74    & 14.0  &  8649 & 72    & 67   \\\\\n",
       "\t12 &  608  &  520  &  127  &   538 &  126  &  8080 &  8080 & 3920  & 500   & 63    & 11.4  &  7703 & 44    & 26   \\\\\n",
       "\\end{tabular}\n"
      ],
      "text/markdown": [
       "\n",
       "| <!--/--> | app | acc | enrol | ftime | ptime | instate | outstate | rbcost | bkcost | phd | sfratio | expend | grad | top10 | \n",
       "|---|---|---|---|---|---|\n",
       "| 1 |  193  |  146  |   55  |   249 |  869  |  7560 |  7560 | 4120  | 800   | 76    | 11.9  | 10922 | 15    | 16    | \n",
       "| 3 |  146  |  117  |   89  |   492 | 1849  |  1742 |  5226 | 4764  | 500   | 39    |  9.5  |  9584 | 39    |  4    | \n",
       "| 7 | 1351  |  892  |  570  |  2385 |  331  |  2220 |  4440 | 3030  | 300   | 72    | 18.9  |  5883 | 51    | 18    | \n",
       "| 9 | 7548  | 6791  | 3070  | 16262 | 1716  |  2100 |  6300 | 3933  | 600   | 85    | 16.7  |  6642 | 69    | 25    | \n",
       "| 10 |  805  |  588  |  287  |  1376 |  207  | 11660 | 11660 | 4325  | 400   | 74    | 14.0  |  8649 | 72    | 67    | \n",
       "| 12 |  608  |  520  |  127  |   538 |  126  |  8080 |  8080 | 3920  | 500   | 63    | 11.4  |  7703 | 44    | 26    | \n",
       "\n",
       "\n"
      ],
      "text/plain": [
       "   app  acc  enrol ftime ptime instate outstate rbcost bkcost phd sfratio\n",
       "1   193  146   55    249  869   7560    7560    4120   800    76  11.9   \n",
       "3   146  117   89    492 1849   1742    5226    4764   500    39   9.5   \n",
       "7  1351  892  570   2385  331   2220    4440    3030   300    72  18.9   \n",
       "9  7548 6791 3070  16262 1716   2100    6300    3933   600    85  16.7   \n",
       "10  805  588  287   1376  207  11660   11660    4325   400    74  14.0   \n",
       "12  608  520  127    538  126   8080    8080    3920   500    63  11.4   \n",
       "   expend grad top10\n",
       "1  10922  15   16   \n",
       "3   9584  39    4   \n",
       "7   5883  51   18   \n",
       "9   6642  69   25   \n",
       "10  8649  72   67   \n",
       "12  7703  44   26   "
      ]
     },
     "metadata": {},
     "output_type": "display_data"
    }
   ],
   "source": [
    "head(data)"
   ]
  },
  {
   "cell_type": "code",
   "execution_count": 5,
   "metadata": {
    "collapsed": true
   },
   "outputs": [],
   "source": [
    "# We are going to predict the good colleges and universities with 30%+ new students from top 10% high school class.\n",
    "data$good = 0\n",
    "data$good[data$top10 > 30] = 1\n",
    "data$good = factor(data$good)"
   ]
  },
  {
   "cell_type": "code",
   "execution_count": 6,
   "metadata": {
    "collapsed": false
   },
   "outputs": [
    {
     "data": {
      "text/html": [
       "<table>\n",
       "<thead><tr><th></th><th scope=col>app</th><th scope=col>acc</th><th scope=col>enrol</th><th scope=col>ftime</th><th scope=col>ptime</th><th scope=col>instate</th><th scope=col>outstate</th><th scope=col>rbcost</th><th scope=col>bkcost</th><th scope=col>phd</th><th scope=col>sfratio</th><th scope=col>expend</th><th scope=col>grad</th><th scope=col>top10</th><th scope=col>good</th></tr></thead>\n",
       "<tbody>\n",
       "\t<tr><th scope=row>1</th><td> 193 </td><td> 146 </td><td>  55 </td><td>  249</td><td> 869 </td><td> 7560</td><td> 7560</td><td>4120 </td><td>800  </td><td>76   </td><td>11.9 </td><td>10922</td><td>15   </td><td>16   </td><td>0    </td></tr>\n",
       "\t<tr><th scope=row>3</th><td> 146 </td><td> 117 </td><td>  89 </td><td>  492</td><td>1849 </td><td> 1742</td><td> 5226</td><td>4764 </td><td>500  </td><td>39   </td><td> 9.5 </td><td> 9584</td><td>39   </td><td> 4   </td><td>0    </td></tr>\n",
       "\t<tr><th scope=row>7</th><td>1351 </td><td> 892 </td><td> 570 </td><td> 2385</td><td> 331 </td><td> 2220</td><td> 4440</td><td>3030 </td><td>300  </td><td>72   </td><td>18.9 </td><td> 5883</td><td>51   </td><td>18   </td><td>0    </td></tr>\n",
       "\t<tr><th scope=row>9</th><td>7548 </td><td>6791 </td><td>3070 </td><td>16262</td><td>1716 </td><td> 2100</td><td> 6300</td><td>3933 </td><td>600  </td><td>85   </td><td>16.7 </td><td> 6642</td><td>69   </td><td>25   </td><td>0    </td></tr>\n",
       "\t<tr><th scope=row>10</th><td> 805 </td><td> 588 </td><td> 287 </td><td> 1376</td><td> 207 </td><td>11660</td><td>11660</td><td>4325 </td><td>400  </td><td>74   </td><td>14.0 </td><td> 8649</td><td>72   </td><td>67   </td><td>1    </td></tr>\n",
       "\t<tr><th scope=row>12</th><td> 608 </td><td> 520 </td><td> 127 </td><td>  538</td><td> 126 </td><td> 8080</td><td> 8080</td><td>3920 </td><td>500  </td><td>63   </td><td>11.4 </td><td> 7703</td><td>44   </td><td>26   </td><td>0    </td></tr>\n",
       "</tbody>\n",
       "</table>\n"
      ],
      "text/latex": [
       "\\begin{tabular}{r|lllllllllllllll}\n",
       "  & app & acc & enrol & ftime & ptime & instate & outstate & rbcost & bkcost & phd & sfratio & expend & grad & top10 & good\\\\\n",
       "\\hline\n",
       "\t1 &  193  &  146  &   55  &   249 &  869  &  7560 &  7560 & 4120  & 800   & 76    & 11.9  & 10922 & 15    & 16    & 0    \\\\\n",
       "\t3 &  146  &  117  &   89  &   492 & 1849  &  1742 &  5226 & 4764  & 500   & 39    &  9.5  &  9584 & 39    &  4    & 0    \\\\\n",
       "\t7 & 1351  &  892  &  570  &  2385 &  331  &  2220 &  4440 & 3030  & 300   & 72    & 18.9  &  5883 & 51    & 18    & 0    \\\\\n",
       "\t9 & 7548  & 6791  & 3070  & 16262 & 1716  &  2100 &  6300 & 3933  & 600   & 85    & 16.7  &  6642 & 69    & 25    & 0    \\\\\n",
       "\t10 &  805  &  588  &  287  &  1376 &  207  & 11660 & 11660 & 4325  & 400   & 74    & 14.0  &  8649 & 72    & 67    & 1    \\\\\n",
       "\t12 &  608  &  520  &  127  &   538 &  126  &  8080 &  8080 & 3920  & 500   & 63    & 11.4  &  7703 & 44    & 26    & 0    \\\\\n",
       "\\end{tabular}\n"
      ],
      "text/markdown": [
       "\n",
       "| <!--/--> | app | acc | enrol | ftime | ptime | instate | outstate | rbcost | bkcost | phd | sfratio | expend | grad | top10 | good | \n",
       "|---|---|---|---|---|---|\n",
       "| 1 |  193  |  146  |   55  |   249 |  869  |  7560 |  7560 | 4120  | 800   | 76    | 11.9  | 10922 | 15    | 16    | 0     | \n",
       "| 3 |  146  |  117  |   89  |   492 | 1849  |  1742 |  5226 | 4764  | 500   | 39    |  9.5  |  9584 | 39    |  4    | 0     | \n",
       "| 7 | 1351  |  892  |  570  |  2385 |  331  |  2220 |  4440 | 3030  | 300   | 72    | 18.9  |  5883 | 51    | 18    | 0     | \n",
       "| 9 | 7548  | 6791  | 3070  | 16262 | 1716  |  2100 |  6300 | 3933  | 600   | 85    | 16.7  |  6642 | 69    | 25    | 0     | \n",
       "| 10 |  805  |  588  |  287  |  1376 |  207  | 11660 | 11660 | 4325  | 400   | 74    | 14.0  |  8649 | 72    | 67    | 1     | \n",
       "| 12 |  608  |  520  |  127  |   538 |  126  |  8080 |  8080 | 3920  | 500   | 63    | 11.4  |  7703 | 44    | 26    | 0     | \n",
       "\n",
       "\n"
      ],
      "text/plain": [
       "   app  acc  enrol ftime ptime instate outstate rbcost bkcost phd sfratio\n",
       "1   193  146   55    249  869   7560    7560    4120   800    76  11.9   \n",
       "3   146  117   89    492 1849   1742    5226    4764   500    39   9.5   \n",
       "7  1351  892  570   2385  331   2220    4440    3030   300    72  18.9   \n",
       "9  7548 6791 3070  16262 1716   2100    6300    3933   600    85  16.7   \n",
       "10  805  588  287   1376  207  11660   11660    4325   400    74  14.0   \n",
       "12  608  520  127    538  126   8080    8080    3920   500    63  11.4   \n",
       "   expend grad top10 good\n",
       "1  10922  15   16    0   \n",
       "3   9584  39    4    0   \n",
       "7   5883  51   18    0   \n",
       "9   6642  69   25    0   \n",
       "10  8649  72   67    1   \n",
       "12  7703  44   26    0   "
      ]
     },
     "metadata": {},
     "output_type": "display_data"
    }
   ],
   "source": [
    "head(data)"
   ]
  },
  {
   "cell_type": "code",
   "execution_count": 7,
   "metadata": {
    "collapsed": false
   },
   "outputs": [
    {
     "name": "stdout",
     "output_type": "stream",
     "text": [
      "[1] 639  13\n",
      "[1] 254  13\n"
     ]
    },
    {
     "data": {
      "image/png": "[encoded data removed]",
      "text/plain": [
       "plot without title"
      ]
     },
     "metadata": {},
     "output_type": "display_data"
    }
   ],
   "source": [
    "# Some models are sensitive to the outliers, let remove test by Mahalanobis Method\n",
    "datag0 = data[data$good==0, 1:13]\n",
    "print(dim(datag0))\n",
    "datag1 = data[data$good==1, 1:13]\n",
    "print(dim(datag1))\n",
    "\n",
    "mdist<-function(x) {\n",
    "   t<-as.matrix(x)\n",
    "   m<-apply(t,2,mean)\n",
    "   s<-var(t)\n",
    "   mahalanobis(t,m,s)\n",
    "}\n",
    "\n",
    "mdatag0 = mdist(datag0)\n",
    "mdatag1 = mdist(datag1)\n",
    "\n",
    "par(mfrow=c(2,1))\n",
    "plot(mdatag0)\n",
    "plot(mdatag1)"
   ]
  },
  {
   "cell_type": "code",
   "execution_count": 8,
   "metadata": {
    "collapsed": false
   },
   "outputs": [
    {
     "name": "stdout",
     "output_type": "stream",
     "text": [
      "Number of outliers in datag0: 47 \n",
      "Number of outliers in datag1: 27"
     ]
    }
   ],
   "source": [
    "# Use 99% chi-square distribution as the cut-off\n",
    "cutoff = qchisq(0.99,df=13)\n",
    "\n",
    "xdatag0 = datag0[mdatag0<cutoff,]\n",
    "xdatag1 = datag1[mdatag1<cutoff,]\n",
    "\n",
    "xdatag0$good = 0\n",
    "xdatag1$good = 1\n",
    "\n",
    "cat('Number of outliers in datag0:',dim(datag0)[1] - dim(xdatag0)[1],'\\n')\n",
    "cat('Number of outliers in datag1:',dim(datag1)[1] - dim(xdatag1)[1])"
   ]
  },
  {
   "cell_type": "code",
   "execution_count": 9,
   "metadata": {
    "collapsed": false
   },
   "outputs": [
    {
     "data": {
      "text/html": [
       "<ol class=list-inline>\n",
       "\t<li>819</li>\n",
       "\t<li>14</li>\n",
       "</ol>\n"
      ],
      "text/latex": [
       "\\begin{enumerate*}\n",
       "\\item 819\n",
       "\\item 14\n",
       "\\end{enumerate*}\n"
      ],
      "text/markdown": [
       "1. 819\n",
       "2. 14\n",
       "\n",
       "\n"
      ],
      "text/plain": [
       "[1] 819  14"
      ]
     },
     "metadata": {},
     "output_type": "display_data"
    }
   ],
   "source": [
    "# Combine and save the result\n",
    "xdata = rbind(xdatag0, xdatag1)\n",
    "dim(xdata)\n",
    "write.table(xdata, file='../ACollege1995R.csv', sep=',', row.names=F)"
   ]
  }
 ],
 "metadata": {
  "kernelspec": {
   "display_name": "R",
   "language": "R",
   "name": "ir"
  },
  "language_info": {
   "codemirror_mode": "r",
   "file_extension": ".r",
   "mimetype": "text/x-r-source",
   "name": "R",
   "pygments_lexer": "r",
   "version": "3.3.2"
  }
 },
 "nbformat": 4,
 "nbformat_minor": 2
}
