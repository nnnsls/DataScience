{
 "cells": [
  {
   "cell_type": "markdown",
   "metadata": {},
   "source": [
    "The data shows the information of American colleges and universities in 1995, the detail as below. And we would like to classify good colleges and universities. <br>\n",
    "[ACollege1995R.csv] Columns:<br>\n",
    "app - No. of applicants received<br>\n",
    "acc - No. of applicants accepted<br>\n",
    "enrol - No. of new students enrolled<br>\n",
    "ftime - No. of full-time undergraduates<br>\n",
    "ptime - No. of part-time undergraduate<br>\n",
    "instate - In-state tuition<br>\n",
    "outstate - Out-state tuition<br>\n",
    "rbcost - Room and board cost<br>\n",
    "bkcost - Estimated book cost<br>\n",
    "phd - % of faculty with Ph.D.<br>\n",
    "sfratio - Student/faculty ratio<br>\n",
    "expend - Instructional expenditure per student<br>\n",
    "grad - Graduation rate<br>\n",
    "good - With 30%+ new students from top 10% high school class."
   ]
  },
  {
   "cell_type": "code",
   "execution_count": 1,
   "metadata": {
    "collapsed": true
   },
   "outputs": [],
   "source": [
    "from sklearn import tree\n",
    "from sklearn.model_selection import train_test_split\n",
    "from sklearn.metrics import classification_report\n",
    "import pandas as pd\n",
    "data = pd.read_csv('../ACollege1995P.csv')"
   ]
  },
  {
   "cell_type": "code",
   "execution_count": 2,
   "metadata": {
    "collapsed": true
   },
   "outputs": [],
   "source": [
    "X_train, X_test, y_train, y_test = train_test_split(data.ix[:,:'grad'], data.good, test_size=0.3, random_state=852)"
   ]
  },
  {
   "cell_type": "code",
   "execution_count": 3,
   "metadata": {
    "collapsed": true
   },
   "outputs": [],
   "source": [
    "ctree = tree.DecisionTreeClassifier(max_depth=4)\n",
    "ctree = ctree.fit(X_train, y_train)"
   ]
  },
  {
   "cell_type": "code",
   "execution_count": 4,
   "metadata": {
    "collapsed": false
   },
   "outputs": [],
   "source": [
    "# Image Output: Classification/Python_Example/tree.dot\n",
    "tree.export_graphviz(ctree, out_file='tree.dot', feature_names=data.columns[:13])"
   ]
  },
  {
   "cell_type": "code",
   "execution_count": 5,
   "metadata": {
    "collapsed": false
   },
   "outputs": [
    {
     "name": "stdout",
     "output_type": "stream",
     "text": [
      "             precision    recall  f1-score   support\n",
      "\n",
      "          0       0.87      0.96      0.91       422\n",
      "          1       0.83      0.59      0.69       145\n",
      "\n",
      "avg / total       0.86      0.86      0.86       567\n",
      "\n",
      "training error: 0.135802469136\n"
     ]
    }
   ],
   "source": [
    "print(classification_report(y_train, ctree.predict(X_train)))\n",
    "print('training error:', 1-sum(y_train == ctree.predict(X_train))/len(y_train))"
   ]
  },
  {
   "cell_type": "code",
   "execution_count": 6,
   "metadata": {
    "collapsed": false
   },
   "outputs": [
    {
     "name": "stdout",
     "output_type": "stream",
     "text": [
      "             precision    recall  f1-score   support\n",
      "\n",
      "          0       0.82      0.91      0.86       178\n",
      "          1       0.65      0.45      0.54        66\n",
      "\n",
      "avg / total       0.77      0.79      0.77       244\n",
      "\n",
      "testing error 0.213114754098\n"
     ]
    }
   ],
   "source": [
    "print(classification_report(y_test, ctree.predict(X_test)))\n",
    "print('testing error', 1-sum(y_test == ctree.predict(X_test))/len(y_test))"
   ]
  }
 ],
 "metadata": {
  "kernelspec": {
   "display_name": "Python 3",
   "language": "python",
   "name": "python3"
  },
  "language_info": {
   "codemirror_mode": {
    "name": "ipython",
    "version": 3
   },
   "file_extension": ".py",
   "mimetype": "text/x-python",
   "name": "python",
   "nbconvert_exporter": "python",
   "pygments_lexer": "ipython3",
   "version": "3.5.2"
  }
 },
 "nbformat": 4,
 "nbformat_minor": 2
}
