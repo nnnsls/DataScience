{
 "cells": [
  {
   "cell_type": "markdown",
   "metadata": {},
   "source": [
    "The data shows the information of American colleges and universities in 1995, the detail as below. And we would like to classify good colleges and universities. "
   ]
  },
  {
   "cell_type": "markdown",
   "metadata": {},
   "source": [
    "[ACollege1995.csv] Columns:<br>\n",
    "app - No. of applicants received<br>\n",
    "acc - No. of applicants accepted<br>\n",
    "enrol - No. of new students enrolled<br>\n",
    "ftime - No. of full-time undergraduates<br>\n",
    "ptime - No. of part-time undergraduate<br>\n",
    "instate - In-state tuition<br>\n",
    "outstate - Out-state tuition<br>\n",
    "rbcost - Room and board cost<br>\n",
    "bkcost - Estimated book cost<br>\n",
    "phd - % of faculty with Ph.D.<br>\n",
    "sfratio - Student/faculty ratio<br>\n",
    "expend - Instructional expenditure per student<br>\n",
    "grad - Graduation rate<br>\n",
    "top10 - % new students from top 10% of high school class"
   ]
  },
  {
   "cell_type": "code",
   "execution_count": 1,
   "metadata": {
    "collapsed": true
   },
   "outputs": [],
   "source": [
    "import numpy as np\n",
    "import pandas as pd\n",
    "from sklearn.preprocessing import scale\n",
    "data = pd.read_csv('../ACollege1995.csv')"
   ]
  },
  {
   "cell_type": "code",
   "execution_count": 2,
   "metadata": {
    "collapsed": false
   },
   "outputs": [],
   "source": [
    "data = data.apply(pd.to_numeric, errors='coerce').dropna()"
   ]
  },
  {
   "cell_type": "code",
   "execution_count": 3,
   "metadata": {
    "collapsed": false,
    "scrolled": true
   },
   "outputs": [],
   "source": [
    "good = (data.top10 > 30) + 0\n",
    "del data['top10']"
   ]
  },
  {
   "cell_type": "code",
   "execution_count": 4,
   "metadata": {
    "collapsed": false
   },
   "outputs": [],
   "source": [
    "data = data[data.apply(lambda x: np.abs(x - x.mean()) / x.std() < 3).all(axis=1)]"
   ]
  },
  {
   "cell_type": "code",
   "execution_count": 5,
   "metadata": {
    "collapsed": false
   },
   "outputs": [],
   "source": [
    "data['good'] = good"
   ]
  },
  {
   "cell_type": "code",
   "execution_count": 6,
   "metadata": {
    "collapsed": false
   },
   "outputs": [
    {
     "name": "stdout",
     "output_type": "stream",
     "text": [
      "(811, 14)\n"
     ]
    },
    {
     "data": {
      "text/html": [
       "<div>\n",
       "<table border=\"1\" class=\"dataframe\">\n",
       "  <thead>\n",
       "    <tr style=\"text-align: right;\">\n",
       "      <th></th>\n",
       "      <th>app</th>\n",
       "      <th>acc</th>\n",
       "      <th>enrol</th>\n",
       "      <th>ftime</th>\n",
       "      <th>ptime</th>\n",
       "      <th>instate</th>\n",
       "      <th>outstate</th>\n",
       "      <th>rbcost</th>\n",
       "      <th>bkcost</th>\n",
       "      <th>phd</th>\n",
       "      <th>sfratio</th>\n",
       "      <th>expend</th>\n",
       "      <th>grad</th>\n",
       "      <th>good</th>\n",
       "    </tr>\n",
       "  </thead>\n",
       "  <tbody>\n",
       "    <tr>\n",
       "      <th>0</th>\n",
       "      <td>193.0</td>\n",
       "      <td>146.0</td>\n",
       "      <td>55.0</td>\n",
       "      <td>249.0</td>\n",
       "      <td>869.0</td>\n",
       "      <td>7560.0</td>\n",
       "      <td>7560.0</td>\n",
       "      <td>4120.0</td>\n",
       "      <td>800.0</td>\n",
       "      <td>76.0</td>\n",
       "      <td>11.9</td>\n",
       "      <td>10922.0</td>\n",
       "      <td>15.0</td>\n",
       "      <td>0</td>\n",
       "    </tr>\n",
       "    <tr>\n",
       "      <th>2</th>\n",
       "      <td>146.0</td>\n",
       "      <td>117.0</td>\n",
       "      <td>89.0</td>\n",
       "      <td>492.0</td>\n",
       "      <td>1849.0</td>\n",
       "      <td>1742.0</td>\n",
       "      <td>5226.0</td>\n",
       "      <td>4764.0</td>\n",
       "      <td>500.0</td>\n",
       "      <td>39.0</td>\n",
       "      <td>9.5</td>\n",
       "      <td>9584.0</td>\n",
       "      <td>39.0</td>\n",
       "      <td>0</td>\n",
       "    </tr>\n",
       "    <tr>\n",
       "      <th>6</th>\n",
       "      <td>1351.0</td>\n",
       "      <td>892.0</td>\n",
       "      <td>570.0</td>\n",
       "      <td>2385.0</td>\n",
       "      <td>331.0</td>\n",
       "      <td>2220.0</td>\n",
       "      <td>4440.0</td>\n",
       "      <td>3030.0</td>\n",
       "      <td>300.0</td>\n",
       "      <td>72.0</td>\n",
       "      <td>18.9</td>\n",
       "      <td>5883.0</td>\n",
       "      <td>51.0</td>\n",
       "      <td>0</td>\n",
       "    </tr>\n",
       "    <tr>\n",
       "      <th>8</th>\n",
       "      <td>7548.0</td>\n",
       "      <td>6791.0</td>\n",
       "      <td>3070.0</td>\n",
       "      <td>16262.0</td>\n",
       "      <td>1716.0</td>\n",
       "      <td>2100.0</td>\n",
       "      <td>6300.0</td>\n",
       "      <td>3933.0</td>\n",
       "      <td>600.0</td>\n",
       "      <td>85.0</td>\n",
       "      <td>16.7</td>\n",
       "      <td>6642.0</td>\n",
       "      <td>69.0</td>\n",
       "      <td>0</td>\n",
       "    </tr>\n",
       "    <tr>\n",
       "      <th>9</th>\n",
       "      <td>805.0</td>\n",
       "      <td>588.0</td>\n",
       "      <td>287.0</td>\n",
       "      <td>1376.0</td>\n",
       "      <td>207.0</td>\n",
       "      <td>11660.0</td>\n",
       "      <td>11660.0</td>\n",
       "      <td>4325.0</td>\n",
       "      <td>400.0</td>\n",
       "      <td>74.0</td>\n",
       "      <td>14.0</td>\n",
       "      <td>8649.0</td>\n",
       "      <td>72.0</td>\n",
       "      <td>1</td>\n",
       "    </tr>\n",
       "    <tr>\n",
       "      <th>11</th>\n",
       "      <td>608.0</td>\n",
       "      <td>520.0</td>\n",
       "      <td>127.0</td>\n",
       "      <td>538.0</td>\n",
       "      <td>126.0</td>\n",
       "      <td>8080.0</td>\n",
       "      <td>8080.0</td>\n",
       "      <td>3920.0</td>\n",
       "      <td>500.0</td>\n",
       "      <td>63.0</td>\n",
       "      <td>11.4</td>\n",
       "      <td>7703.0</td>\n",
       "      <td>44.0</td>\n",
       "      <td>0</td>\n",
       "    </tr>\n",
       "    <tr>\n",
       "      <th>16</th>\n",
       "      <td>452.0</td>\n",
       "      <td>331.0</td>\n",
       "      <td>269.0</td>\n",
       "      <td>1417.0</td>\n",
       "      <td>301.0</td>\n",
       "      <td>6150.0</td>\n",
       "      <td>6150.0</td>\n",
       "      <td>3680.0</td>\n",
       "      <td>550.0</td>\n",
       "      <td>59.0</td>\n",
       "      <td>16.6</td>\n",
       "      <td>5412.0</td>\n",
       "      <td>52.0</td>\n",
       "      <td>0</td>\n",
       "    </tr>\n",
       "    <tr>\n",
       "      <th>18</th>\n",
       "      <td>1680.0</td>\n",
       "      <td>1395.0</td>\n",
       "      <td>691.0</td>\n",
       "      <td>2959.0</td>\n",
       "      <td>402.0</td>\n",
       "      <td>8236.0</td>\n",
       "      <td>8236.0</td>\n",
       "      <td>3700.0</td>\n",
       "      <td>569.0</td>\n",
       "      <td>74.0</td>\n",
       "      <td>14.7</td>\n",
       "      <td>9533.0</td>\n",
       "      <td>61.0</td>\n",
       "      <td>1</td>\n",
       "    </tr>\n",
       "    <tr>\n",
       "      <th>21</th>\n",
       "      <td>4414.0</td>\n",
       "      <td>1500.0</td>\n",
       "      <td>335.0</td>\n",
       "      <td>908.0</td>\n",
       "      <td>119.0</td>\n",
       "      <td>5666.0</td>\n",
       "      <td>5666.0</td>\n",
       "      <td>2964.0</td>\n",
       "      <td>1000.0</td>\n",
       "      <td>56.0</td>\n",
       "      <td>15.5</td>\n",
       "      <td>5970.0</td>\n",
       "      <td>46.0</td>\n",
       "      <td>0</td>\n",
       "    </tr>\n",
       "    <tr>\n",
       "      <th>22</th>\n",
       "      <td>1471.0</td>\n",
       "      <td>1281.0</td>\n",
       "      <td>824.0</td>\n",
       "      <td>4343.0</td>\n",
       "      <td>990.0</td>\n",
       "      <td>1697.0</td>\n",
       "      <td>2883.0</td>\n",
       "      <td>2570.0</td>\n",
       "      <td>300.0</td>\n",
       "      <td>50.0</td>\n",
       "      <td>23.0</td>\n",
       "      <td>4295.0</td>\n",
       "      <td>48.0</td>\n",
       "      <td>0</td>\n",
       "    </tr>\n",
       "  </tbody>\n",
       "</table>\n",
       "</div>"
      ],
      "text/plain": [
       "       app     acc   enrol    ftime   ptime  instate  outstate  rbcost  \\\n",
       "0    193.0   146.0    55.0    249.0   869.0   7560.0    7560.0  4120.0   \n",
       "2    146.0   117.0    89.0    492.0  1849.0   1742.0    5226.0  4764.0   \n",
       "6   1351.0   892.0   570.0   2385.0   331.0   2220.0    4440.0  3030.0   \n",
       "8   7548.0  6791.0  3070.0  16262.0  1716.0   2100.0    6300.0  3933.0   \n",
       "9    805.0   588.0   287.0   1376.0   207.0  11660.0   11660.0  4325.0   \n",
       "11   608.0   520.0   127.0    538.0   126.0   8080.0    8080.0  3920.0   \n",
       "16   452.0   331.0   269.0   1417.0   301.0   6150.0    6150.0  3680.0   \n",
       "18  1680.0  1395.0   691.0   2959.0   402.0   8236.0    8236.0  3700.0   \n",
       "21  4414.0  1500.0   335.0    908.0   119.0   5666.0    5666.0  2964.0   \n",
       "22  1471.0  1281.0   824.0   4343.0   990.0   1697.0    2883.0  2570.0   \n",
       "\n",
       "    bkcost   phd  sfratio   expend  grad  good  \n",
       "0    800.0  76.0     11.9  10922.0  15.0     0  \n",
       "2    500.0  39.0      9.5   9584.0  39.0     0  \n",
       "6    300.0  72.0     18.9   5883.0  51.0     0  \n",
       "8    600.0  85.0     16.7   6642.0  69.0     0  \n",
       "9    400.0  74.0     14.0   8649.0  72.0     1  \n",
       "11   500.0  63.0     11.4   7703.0  44.0     0  \n",
       "16   550.0  59.0     16.6   5412.0  52.0     0  \n",
       "18   569.0  74.0     14.7   9533.0  61.0     1  \n",
       "21  1000.0  56.0     15.5   5970.0  46.0     0  \n",
       "22   300.0  50.0     23.0   4295.0  48.0     0  "
      ]
     },
     "execution_count": 6,
     "metadata": {},
     "output_type": "execute_result"
    }
   ],
   "source": [
    "print(data.shape)\n",
    "data.head(10)"
   ]
  },
  {
   "cell_type": "code",
   "execution_count": 7,
   "metadata": {
    "collapsed": false
   },
   "outputs": [],
   "source": [
    "data.to_csv('../ACollege1995P.csv', index_label=False)"
   ]
  }
 ],
 "metadata": {
  "kernelspec": {
   "display_name": "Python 3",
   "language": "python",
   "name": "python3"
  },
  "language_info": {
   "codemirror_mode": {
    "name": "ipython",
    "version": 3
   },
   "file_extension": ".py",
   "mimetype": "text/x-python",
   "name": "python",
   "nbconvert_exporter": "python",
   "pygments_lexer": "ipython3",
   "version": "3.5.2"
  }
 },
 "nbformat": 4,
 "nbformat_minor": 2
}
