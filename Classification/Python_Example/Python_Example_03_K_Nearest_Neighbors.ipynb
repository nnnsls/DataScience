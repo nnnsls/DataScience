{
 "cells": [
  {
   "cell_type": "markdown",
   "metadata": {},
   "source": [
    "The data shows the information of American colleges and universities in 1995, the detail as below. And we would like to classify good colleges and universities. <br>\n",
    "[ACollege1995P.csv] Columns:<br>\n",
    "app - No. of applicants received<br>\n",
    "acc - No. of applicants accepted<br>\n",
    "enrol - No. of new students enrolled<br>\n",
    "ftime - No. of full-time undergraduates<br>\n",
    "ptime - No. of part-time undergraduate<br>\n",
    "instate - In-state tuition<br>\n",
    "outstate - Out-state tuition<br>\n",
    "rbcost - Room and board cost<br>\n",
    "bkcost - Estimated book cost<br>\n",
    "phd - % of faculty with Ph.D.<br>\n",
    "sfratio - Student/faculty ratio<br>\n",
    "expend - Instructional expenditure per student<br>\n",
    "grad - Graduation rate<br>\n",
    "good - With 30%+ new students from top 10% high school class."
   ]
  },
  {
   "cell_type": "code",
   "execution_count": 1,
   "metadata": {
    "collapsed": true
   },
   "outputs": [],
   "source": [
    "from sklearn.neighbors import KNeighborsClassifier\n",
    "from sklearn.model_selection import train_test_split\n",
    "from sklearn.metrics import classification_report\n",
    "from sklearn import preprocessing\n",
    "\n",
    "import pandas as pd\n",
    "data = pd.read_csv('../ACollege1995P.csv')"
   ]
  },
  {
   "cell_type": "code",
   "execution_count": 2,
   "metadata": {
    "collapsed": true
   },
   "outputs": [],
   "source": [
    "X_train, X_test, y_train, y_test = train_test_split(data.ix[:,:'grad'], data.good, test_size=0.3, random_state=852)"
   ]
  },
  {
   "cell_type": "code",
   "execution_count": 3,
   "metadata": {
    "collapsed": false
   },
   "outputs": [
    {
     "name": "stdout",
     "output_type": "stream",
     "text": [
      "2 : training error: 0.109347442681\n",
      "3 : training error: 0.10405643739\n",
      "4 : training error: 0.139329805996\n",
      "5 : training error: 0.121693121693\n",
      "6 : training error: 0.139329805996\n",
      "7 : training error: 0.142857142857\n",
      "8 : training error: 0.146384479718\n",
      "9 : training error: 0.146384479718\n"
     ]
    }
   ],
   "source": [
    "for i in range(2,10):\n",
    "    neigh = KNeighborsClassifier(n_neighbors=i)\n",
    "    neigh = neigh.fit(X_train, y_train)\n",
    "    print(i,': training error:', 1-sum(y_train == neigh.predict(X_train))/len(y_train))"
   ]
  },
  {
   "cell_type": "code",
   "execution_count": 4,
   "metadata": {
    "collapsed": false
   },
   "outputs": [
    {
     "name": "stdout",
     "output_type": "stream",
     "text": [
      "             precision    recall  f1-score   support\n",
      "\n",
      "          0       0.83      0.90      0.87       178\n",
      "          1       0.67      0.52      0.58        66\n",
      "\n",
      "avg / total       0.79      0.80      0.79       244\n",
      "\n",
      "testing error: 0.200819672131\n"
     ]
    }
   ],
   "source": [
    "neigh = KNeighborsClassifier(n_neighbors=3)\n",
    "neigh = neigh.fit(X_train, y_train)\n",
    "print(classification_report(y_test, neigh.predict(X_test)))\n",
    "print('testing error:', 1-sum(y_test == neigh.predict(X_test))/len(y_test))"
   ]
  },
  {
   "cell_type": "markdown",
   "metadata": {},
   "source": [
    "# Improvement\n",
    "The knn model would be improved by standardize transformation as distance based model. "
   ]
  },
  {
   "cell_type": "code",
   "execution_count": 5,
   "metadata": {
    "collapsed": false
   },
   "outputs": [],
   "source": [
    "scaler = preprocessing.StandardScaler().fit(data.ix[:,:'grad'])\n",
    "sdata = pd.DataFrame(scaler.transform(data.ix[:,:'grad']), columns=data.columns[:13])"
   ]
  },
  {
   "cell_type": "code",
   "execution_count": 6,
   "metadata": {
    "collapsed": false
   },
   "outputs": [],
   "source": [
    "X_train, X_test, y_train, y_test = train_test_split(sdata, data.good, test_size=0.3, random_state=852)"
   ]
  },
  {
   "cell_type": "code",
   "execution_count": 7,
   "metadata": {
    "collapsed": false
   },
   "outputs": [
    {
     "name": "stdout",
     "output_type": "stream",
     "text": [
      "2 : training error: 0.123456790123\n",
      "3 : training error: 0.102292768959\n",
      "4 : training error: 0.128747795414\n",
      "5 : training error: 0.123456790123\n",
      "6 : training error: 0.141093474427\n",
      "7 : training error: 0.141093474427\n",
      "8 : training error: 0.16049382716\n",
      "9 : training error: 0.153439153439\n"
     ]
    }
   ],
   "source": [
    "for i in range(2,10):\n",
    "    neigh = KNeighborsClassifier(n_neighbors=i)\n",
    "    neigh = neigh.fit(X_train, y_train)\n",
    "    print(i,': training error:', 1-sum(y_train == neigh.predict(X_train))/len(y_train))"
   ]
  },
  {
   "cell_type": "code",
   "execution_count": 8,
   "metadata": {
    "collapsed": false
   },
   "outputs": [
    {
     "name": "stdout",
     "output_type": "stream",
     "text": [
      "             precision    recall  f1-score   support\n",
      "\n",
      "          0       0.86      0.95      0.90       178\n",
      "          1       0.81      0.59      0.68        66\n",
      "\n",
      "avg / total       0.85      0.85      0.84       244\n",
      "\n",
      "testing error: 0.147540983607\n"
     ]
    }
   ],
   "source": [
    "neigh = KNeighborsClassifier(n_neighbors=3)\n",
    "neigh = neigh.fit(X_train, y_train)\n",
    "print(classification_report(y_test, neigh.predict(X_test)))\n",
    "print('testing error:', 1-sum(y_test == neigh.predict(X_test))/len(y_test))"
   ]
  }
 ],
 "metadata": {
  "kernelspec": {
   "display_name": "Python 3",
   "language": "python",
   "name": "python3"
  },
  "language_info": {
   "codemirror_mode": {
    "name": "ipython",
    "version": 3
   },
   "file_extension": ".py",
   "mimetype": "text/x-python",
   "name": "python",
   "nbconvert_exporter": "python",
   "pygments_lexer": "ipython3",
   "version": "3.5.2"
  }
 },
 "nbformat": 4,
 "nbformat_minor": 2
}
